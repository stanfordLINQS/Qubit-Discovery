{
 "cells": [
  {
   "cell_type": "markdown",
   "metadata": {},
   "source": [
    "# `qubit_discovery` Overview\n",
    "\n",
    "This notebook will guide you through using the core features of the `qubit_discovery` module, and show you how to put them together to optimize a fluxonium circuit using BFGS.\n",
    "\n",
    "Much of the heavy lifting here is done by [`SQcircuit`](https://sqcircuit.org/), a package for simulating superconducting circuits and calculating gradients using the [`PyTorch`](https://pytorch.org/) package. The `qubit_discovery` modules lays on top and provides a set of utilities to quickly begin optimization. Before reading this tutorial, familiarize yourself with the basic features of `SQcircuit` [here](https://docs.sqcircuit.org/)."
   ]
  },
  {
   "cell_type": "code",
   "execution_count": 1,
   "metadata": {},
   "outputs": [],
   "source": [
    "import SQcircuit as sq\n",
    "import qubit_discovery as qd\n",
    "\n",
    "# Switch to the PyTorch engine to support gradient and optimization\n",
    "sq.set_engine('PyTorch')"
   ]
  },
  {
   "cell_type": "markdown",
   "metadata": {},
   "source": [
    "## Circuit utilities"
   ]
  },
  {
   "cell_type": "markdown",
   "metadata": {},
   "source": [
    "### Sampling\n",
    "\n",
    "Optimization begins by choosing a random starting point. The `CircuitSampler` class makes this easy to do based on a range of element values you want to sample between. To match the paper [TODO], let's set the allowable element ranges to:\n",
    "\n",
    "| Element type       | Minimum value | Maximum value |\n",
    "|--------------------|---------------|---------------|\n",
    "| Capacitor          | 1 fF          | 12 pF         |\n",
    "| Inductor           | 1 fH          | 5 mH          |\n",
    "| Josephson junction | 1 GHz         | 100 GHz       |\n",
    "\n",
    "Currently `CircuitSampler` only supports circuits with a single inductive loop. However, you can optimize over the external flux through it by passing in an allowed flux range $\\subset [0, 1]$."
   ]
  },
  {
   "cell_type": "code",
   "execution_count": 6,
   "metadata": {},
   "outputs": [],
   "source": [
    "from qubit_discovery.optimization import CircuitSampler\n",
    "\n",
    "# Set up a sampler\n",
    "sampler = CircuitSampler(\n",
    "    capacitor_range=[1e-15, 12e-12],    # in F\n",
    "    inductor_range=[1e-15, 5e-6],       # in H\n",
    "    junction_range=[1e9, 100e9],        # in Hz\n",
    "    flux_range=[0, 1]                   # in units of Phi_0        \n",
    ")"
   ]
  },
  {
   "cell_type": "markdown",
   "metadata": {},
   "source": [
    "The topology of the circuit to be sampled is specified by string called a \"**circuit code**.\" In the case of single-loop circuits, this is a list of the inductive elements present in the loop (`'J'` for Josephson junction and `'L`' for inductor); a more detailed description can be found in the paper [TODO].\n",
    "\n",
    "For instance, a fluxonium has the circuit code `'JL'`."
   ]
  },
  {
   "cell_type": "code",
   "execution_count": 3,
   "metadata": {},
   "outputs": [
    {
     "data": {
      "text/latex": [
       "$\\displaystyle \\hat{H} = \\omega_{1} \\hat{a}^\\dagger_{1} \\hat{a}_{1} + E_{J_{1}} \\cos{\\left(\\hat{\\varphi}_{1} + \\varphi_{\\text{ext}_{1}} \\right)}$"
      ],
      "text/plain": [
       "<IPython.core.display.Math object>"
      ]
     },
     "metadata": {},
     "output_type": "display_data"
    },
    {
     "data": {
      "text/latex": [
       "$\\displaystyle ------------------------------------------------------------$"
      ],
      "text/plain": [
       "<IPython.core.display.Math object>"
      ]
     },
     "metadata": {},
     "output_type": "display_data"
    },
    {
     "data": {
      "text/latex": [
       "$\\displaystyle \\text{mode 1:}~~~~~~~~~~~\\text{harmonic}~~~~~~~~~~~\\hat{\\varphi}_{1} = \\varphi_{\\text{zp}_{1}} \\left(\\hat{a}_{1} + \\hat{a}^\\dagger_{1}\\right)~~~~~~~~~~~\\omega_{1} / 2 \\pi = 14.55108~~~~~~~~~~~\\varphi_{\\text{zp}_{1}} = 0.57$"
      ],
      "text/plain": [
       "<IPython.core.display.Math object>"
      ]
     },
     "metadata": {},
     "output_type": "display_data"
    },
    {
     "data": {
      "text/latex": [
       "$\\displaystyle $"
      ],
      "text/plain": [
       "<IPython.core.display.Math object>"
      ]
     },
     "metadata": {},
     "output_type": "display_data"
    },
    {
     "data": {
      "text/latex": [
       "$\\displaystyle ------------------------------------------------------------$"
      ],
      "text/plain": [
       "<IPython.core.display.Math object>"
      ]
     },
     "metadata": {},
     "output_type": "display_data"
    },
    {
     "data": {
      "text/latex": [
       "$\\displaystyle \\text{parameters:}~~~~~~~~~~~E_{J_{1}} = 1.532$"
      ],
      "text/plain": [
       "<IPython.core.display.Math object>"
      ]
     },
     "metadata": {},
     "output_type": "display_data"
    },
    {
     "data": {
      "text/latex": [
       "$\\displaystyle \\text{loops:}~~~~~~~~~~~\\varphi_{\\text{ext}_{1}} / 2 \\pi = 0.08$"
      ],
      "text/plain": [
       "<IPython.core.display.Math object>"
      ]
     },
     "metadata": {},
     "output_type": "display_data"
    }
   ],
   "source": [
    "# Randomly sample a circuit from the element ranges above…\n",
    "fluxonium = sampler.sample_circuit_code('JL')\n",
    "# …and print out the description.\n",
    "fluxonium.description()"
   ]
  },
  {
   "cell_type": "markdown",
   "metadata": {},
   "source": [
    "### Truncating circuits"
   ]
  },
  {
   "cell_type": "markdown",
   "metadata": {},
   "source": [
    "To numerically simulate the circuit, the infinite-dimensional Hamiltonian must be truncated. In `SQcircuit`, this is done by choosing truncation numbers for each circuit mode.\n",
    "\n",
    "In circuits which have multiples modes, it can be difficult to decide how choose truncation numbers. For instance, consider a `'JLL'` circuit, which has two harmonic modes."
   ]
  },
  {
   "cell_type": "code",
   "execution_count": 57,
   "metadata": {},
   "outputs": [
    {
     "data": {
      "text/latex": [
       "$\\displaystyle \\hat{H} = \\omega_{1} \\hat{a}^\\dagger_{1} \\hat{a}_{1} + \\omega_{2} \\hat{a}^\\dagger_{2} \\hat{a}_{2} + E_{J_{1}} \\cos{\\left(- \\hat{\\varphi}_{1} + \\hat{\\varphi}_{2} + \\varphi_{\\text{ext}_{1}} \\right)}$"
      ],
      "text/plain": [
       "<IPython.core.display.Math object>"
      ]
     },
     "metadata": {},
     "output_type": "display_data"
    },
    {
     "data": {
      "text/latex": [
       "$\\displaystyle ------------------------------------------------------------$"
      ],
      "text/plain": [
       "<IPython.core.display.Math object>"
      ]
     },
     "metadata": {},
     "output_type": "display_data"
    },
    {
     "data": {
      "text/latex": [
       "$\\displaystyle \\text{mode 1:}~~~~~~~~~~~\\text{harmonic}~~~~~~~~~~~\\hat{\\varphi}_{1} = \\varphi_{\\text{zp}_{1}} \\left(\\hat{a}_{1} + \\hat{a}^\\dagger_{1}\\right)~~~~~~~~~~~\\omega_{1} / 2 \\pi = 11.86256~~~~~~~~~~~\\varphi_{\\text{zp}_{1}} = 0.0$"
      ],
      "text/plain": [
       "<IPython.core.display.Math object>"
      ]
     },
     "metadata": {},
     "output_type": "display_data"
    },
    {
     "data": {
      "text/latex": [
       "$\\displaystyle \\text{mode 2:}~~~~~~~~~~~\\text{harmonic}~~~~~~~~~~~\\hat{\\varphi}_{2} = \\varphi_{\\text{zp}_{2}} \\left(\\hat{a}_{2} + \\hat{a}^\\dagger_{2}\\right)~~~~~~~~~~~\\omega_{2} / 2 \\pi = 1.59305~~~~~~~~~~~\\varphi_{\\text{zp}_{2}} = 0.33$"
      ],
      "text/plain": [
       "<IPython.core.display.Math object>"
      ]
     },
     "metadata": {},
     "output_type": "display_data"
    },
    {
     "data": {
      "text/latex": [
       "$\\displaystyle $"
      ],
      "text/plain": [
       "<IPython.core.display.Math object>"
      ]
     },
     "metadata": {},
     "output_type": "display_data"
    },
    {
     "data": {
      "text/latex": [
       "$\\displaystyle ------------------------------------------------------------$"
      ],
      "text/plain": [
       "<IPython.core.display.Math object>"
      ]
     },
     "metadata": {},
     "output_type": "display_data"
    },
    {
     "data": {
      "text/latex": [
       "$\\displaystyle \\text{parameters:}~~~~~~~~~~~E_{J_{1}} = 61.1$"
      ],
      "text/plain": [
       "<IPython.core.display.Math object>"
      ]
     },
     "metadata": {},
     "output_type": "display_data"
    },
    {
     "data": {
      "text/latex": [
       "$\\displaystyle \\text{loops:}~~~~~~~~~~~\\varphi_{\\text{ext}_{1}} / 2 \\pi = 0.35$"
      ],
      "text/plain": [
       "<IPython.core.display.Math object>"
      ]
     },
     "metadata": {},
     "output_type": "display_data"
    }
   ],
   "source": [
    "# Here, we build the circuit by hand so you can get the same results, but feel\n",
    "# free to try a random one instead by using `circuit = sampler.sample_circuit_code('JLL')`.\n",
    "loop = sq.Loop(0.35)\n",
    "circuit = sq.Circuit(\n",
    "    {\n",
    "        (0, 1): [sq.Junction(61.1, 'GHz', loops=[loop]), sq.Capacitor(4.4e-13, 'F')],\n",
    "        (1, 2): [sq.Inductor(2.1e-8, 'H', loops=[loop]), sq.Capacitor(1.2e-15, 'F')],\n",
    "        (2, 0): [sq.Inductor(1.6e-9, 'H', loops=[loop]), sq.Capacitor(1.2e-13, 'F')],\n",
    "    },\n",
    "    flux_dist='junctions'\n",
    ")\n",
    "circuit.description()"
   ]
  },
  {
   "cell_type": "markdown",
   "metadata": {},
   "source": [
    "As you can see, the first mode has a much higher characteristic frequency, so will participate less strongly in the low-energy states of the circuit. \n",
    "\n",
    "During optimization, we want to constrain the time and memory it takes to diagonalize by fixing a maximum Hilbert space dimension $K$. Without prior knowledge of the circuit, the only reasonable solution is to assign each of the modes of the circuit a truncation number $K^{1/2}$ (so that the total tensor-product Hilbert space has dimension $K$)."
   ]
  },
  {
   "cell_type": "code",
   "execution_count": 104,
   "metadata": {},
   "outputs": [
    {
     "name": "stdout",
     "output_type": "stream",
     "text": [
      "Truncation numbers [26, 26]\n",
      "Is the circuit converged? (False, 0.0008735488043108974)\n"
     ]
    }
   ],
   "source": [
    "K = 700\n",
    "circuit.set_trunc_nums([int(K**(1/2)), int(K**(1/2))]) # circuit.truncate_circuit(K) is a shortcut for this\n",
    "print('Truncation numbers', circuit.trunc_nums)\n",
    "\n",
    "circuit.diag(10)\n",
    "# t is a parameter to chose stringency to check convergence; see the SQcircuit docs\n",
    "print('Is the circuit converged?', circuit.check_convergence(t=5)) "
   ]
  },
  {
   "cell_type": "markdown",
   "metadata": {},
   "source": [
    "The `qubit_discovery` module offers a function `assign_trunc_nums` which analyzes the circuit to understand which modes are important for the low-energy states, and preferentially assign higher truncation numbers to those modes. It takes in a desired total truncation number (maximum Hilbert space size) $K$ and uses a heuristic method to decide how to allocate truncation numbers to each mode. \n",
    "\n",
    "Using this function, circuits can be accurately simulated with a lower $K$ than when assigning each mode an equal truncation number."
   ]
  },
  {
   "cell_type": "code",
   "execution_count": 105,
   "metadata": {},
   "outputs": [
    {
     "name": "stdout",
     "output_type": "stream",
     "text": [
      "New truncation numbers [7, 100]\n",
      "Is the circuit converged? (True, 2.9370916809767778e-09)\n"
     ]
    }
   ],
   "source": [
    "qd.optimization.assign_trunc_nums(circuit, total_trunc_num=K)\n",
    "\n",
    "print('New truncation numbers', circuit.trunc_nums)\n",
    "\n",
    "circuit.diag(10)\n",
    "print('Is the circuit converged?', circuit.check_convergence(t=5)) "
   ]
  },
  {
   "cell_type": "markdown",
   "metadata": {},
   "source": [
    "Notice that the `assign_trunc_nums` decided (just as we did by looking at the characteristic frequencies of each mode) that the first mode was less important, and assigned it a smaller truncation number (7 versus 100).\n",
    "\n",
    "For an explanation of how the optimal truncation numbers are chosen, see Appendix E of our paper, [TODO]. For an explanation of how `check_convergence` works, see Appendix D."
   ]
  },
  {
   "cell_type": "markdown",
   "metadata": {},
   "source": [
    "## Constructing a loss function"
   ]
  },
  {
   "cell_type": "markdown",
   "metadata": {},
   "source": [
    "A loss function is built out of a number of component metrics you want to optimize for. The `qubit_discovery.losses` module offers a number of pre-built metrics, which can be accessed with the `get_all_metrics()` function."
   ]
  },
  {
   "cell_type": "code",
   "execution_count": 3,
   "metadata": {},
   "outputs": [
    {
     "data": {
      "text/plain": [
       "['frequency',\n",
       " 'flux_sensitivity',\n",
       " 'charge_sensitivity',\n",
       " 'number_of_gates',\n",
       " 'anharmonicity',\n",
       " 'element_sensitivity',\n",
       " 'gate_speed',\n",
       " 't2',\n",
       " 't1',\n",
       " 't1_capacitive',\n",
       " 't1_inductive',\n",
       " 't1_quasiparticle',\n",
       " 't_phi',\n",
       " 't_phi_charge',\n",
       " 't_phi_cc',\n",
       " 't_phi_flux']"
      ]
     },
     "execution_count": 3,
     "metadata": {},
     "output_type": "execute_result"
    }
   ],
   "source": [
    "qd.losses.get_all_metrics()"
   ]
  },
  {
   "cell_type": "markdown",
   "metadata": {},
   "source": [
    "All the metrics functions are available in the `ALL_METRICS` dictionary; call `help()` on any of them for more details about what a particular loss is."
   ]
  },
  {
   "cell_type": "code",
   "execution_count": 2,
   "metadata": {},
   "outputs": [
    {
     "name": "stdout",
     "output_type": "stream",
     "text": [
      "Help on function anharmonicity_loss in module qubit_discovery.losses.loss:\n",
      "\n",
      "anharmonicity_loss(circuit: SQcircuit.circuit.Circuit) -> Tuple[Union[float, torch.Tensor], Union[float, torch.Tensor]]\n",
      "    Computes a loss to penalize low anharmonicitiy. The absolute anharmonicity is\n",
      "        ``A = omega_{21} - omega_{10}``\n",
      "    and the relative anharmonicity is\n",
      "        ``Ar = (omega_{21} - omega_{10})/omega_{10}`.\n",
      "\n",
      "    Parameters\n",
      "    ----------\n",
      "        circuit:\n",
      "            A ``Circuit`` object specifying the qubit.\n",
      "\n",
      "    Returns\n",
      "    ----------\n",
      "        loss:\n",
      "            1 / Ar, the reciprocal of the relative anharmonicity.\n",
      "        anharmonicity:\n",
      "            A, the absolute anharmonicity.\n",
      "\n"
     ]
    }
   ],
   "source": [
    "help(qd.losses.ALL_METRICS['anharmonicity'])"
   ]
  },
  {
   "cell_type": "markdown",
   "metadata": {},
   "source": [
    "After deciding the metrics you want to optimize for, you can build a loss function using the `build_loss_function` constructor. This takes in two inputs:\n",
    "1. The list of metrics you want to optimize for, and the weights in the loss function. The total loss function is then constructed as\n",
    "\n",
    "$$ \\mathcal{L}_\\text{tot} = \\sum_\\text{metrics} \\text{weight} \\times \\mathcal{L}_\\text{metric} $$\n",
    "\n",
    "2. A list of other metrics you want to track during optimization. (For instance, you may only want to optimize for $T_2$ time, but still track what the qubit frequency is.)\n",
    "\n",
    "Each metric is identified by a name, provided by `get_all_metrics()`.\n",
    "\n",
    "Below, we'll build a loss function which optimizes for low charge sensitivity, low flux sensitivity, and a large number of single-qubit gates, for simplicity all with the same weight. We'll also track a lot of other properties: $T_1$, $T_\\varphi$, $T_2$, the anharmonicity $\\alpha$, and $\\omega_{01}$."
   ]
  },
  {
   "cell_type": "code",
   "execution_count": 13,
   "metadata": {},
   "outputs": [],
   "source": [
    "my_loss_function = qd.losses.build_loss_function(\n",
    "    use_losses = { # use_losses is a dictionary of metric: weight\n",
    "        'flux_sensitivity': 1.0,\n",
    "        'number_of_gates': 1.0\n",
    "    },\n",
    "    use_metrics = [ # use_losses is a list of metrics to track\n",
    "        't1', \n",
    "        't_phi',\n",
    "        't2',\n",
    "        'anharmonicity',\n",
    "        'frequency'\n",
    "    ]\n",
    ")"
   ]
  },
  {
   "cell_type": "markdown",
   "metadata": {},
   "source": [
    "## Performing optimization\n",
    "\n",
    "Now that we've sampled a random circuit and built our loss function, we can perform optimization. Currently, `qubit_discovery` offers two ready-built algorithms: gradient descent and BFGS. These algorithms internally implement the truncation procedures described above.\n",
    "\n",
    "BFGS performs better for most loss functions, so we'll perform optimization using it. We run it by calling `run_BFGS`. SGD can be run with `run_SGD`, which has the same call signature."
   ]
  },
  {
   "cell_type": "code",
   "execution_count": 16,
   "metadata": {},
   "outputs": [
    {
     "data": {
      "text/latex": [
       "$\\displaystyle \\hat{H} = \\omega_{1} \\hat{a}^\\dagger_{1} \\hat{a}_{1} + E_{J_{1}} \\cos{\\left(\\hat{\\varphi}_{1} + \\varphi_{\\text{ext}_{1}} \\right)}$"
      ],
      "text/plain": [
       "<IPython.core.display.Math object>"
      ]
     },
     "metadata": {},
     "output_type": "display_data"
    },
    {
     "data": {
      "text/latex": [
       "$\\displaystyle ------------------------------------------------------------$"
      ],
      "text/plain": [
       "<IPython.core.display.Math object>"
      ]
     },
     "metadata": {},
     "output_type": "display_data"
    },
    {
     "data": {
      "text/latex": [
       "$\\displaystyle \\text{mode 1:}~~~~~~~~~~~\\text{harmonic}~~~~~~~~~~~\\hat{\\varphi}_{1} = \\varphi_{\\text{zp}_{1}} \\left(\\hat{a}_{1} + \\hat{a}^\\dagger_{1}\\right)~~~~~~~~~~~\\omega_{1} / 2 \\pi = 28.48512~~~~~~~~~~~\\varphi_{\\text{zp}_{1}} = 0.08$"
      ],
      "text/plain": [
       "<IPython.core.display.Math object>"
      ]
     },
     "metadata": {},
     "output_type": "display_data"
    },
    {
     "data": {
      "text/latex": [
       "$\\displaystyle $"
      ],
      "text/plain": [
       "<IPython.core.display.Math object>"
      ]
     },
     "metadata": {},
     "output_type": "display_data"
    },
    {
     "data": {
      "text/latex": [
       "$\\displaystyle ------------------------------------------------------------$"
      ],
      "text/plain": [
       "<IPython.core.display.Math object>"
      ]
     },
     "metadata": {},
     "output_type": "display_data"
    },
    {
     "data": {
      "text/latex": [
       "$\\displaystyle \\text{parameters:}~~~~~~~~~~~E_{J_{1}} = 6.383$"
      ],
      "text/plain": [
       "<IPython.core.display.Math object>"
      ]
     },
     "metadata": {},
     "output_type": "display_data"
    },
    {
     "data": {
      "text/latex": [
       "$\\displaystyle \\text{loops:}~~~~~~~~~~~\\varphi_{\\text{ext}_{1}} / 2 \\pi = 0.85$"
      ],
      "text/plain": [
       "<IPython.core.display.Math object>"
      ]
     },
     "metadata": {},
     "output_type": "display_data"
    },
    {
     "name": "stderr",
     "output_type": "stream",
     "text": [
      "Iteration 20:  80%|████████  | 20/25 [02:40<00:40,  8.02s/it, loss=7.755e-06]\n"
     ]
    }
   ],
   "source": [
    "initial_circuit = sampler.sample_circuit_code('JL')\n",
    "initial_circuit.description()\n",
    "\n",
    "optimized_circuit, loss_values, metric_values = qd.optimization.run_BFGS(\n",
    "    circuit=initial_circuit,                    # Starting point\n",
    "    loss_metric_function=my_loss_function,      # Loss function to optimize\n",
    "    max_iter=25,                                # Maximum number of iterations\n",
    "    total_trunc_num=200,                        # Total truncation numbers\n",
    "    bounds=sampler.bounds                       # Bounds to keep the circuit within during optimization.\n",
    ")"
   ]
  },
  {
   "cell_type": "markdown",
   "metadata": {},
   "source": [
    "We can now look at the details of the optimized circuit"
   ]
  },
  {
   "cell_type": "code",
   "execution_count": 17,
   "metadata": {},
   "outputs": [
    {
     "data": {
      "text/latex": [
       "$\\displaystyle \\hat{H} = \\omega_{1} \\hat{a}^\\dagger_{1} \\hat{a}_{1} + E_{J_{1}} \\cos{\\left(\\hat{\\varphi}_{1} + \\varphi_{\\text{ext}_{1}} \\right)}$"
      ],
      "text/plain": [
       "<IPython.core.display.Math object>"
      ]
     },
     "metadata": {},
     "output_type": "display_data"
    },
    {
     "data": {
      "text/latex": [
       "$\\displaystyle ------------------------------------------------------------$"
      ],
      "text/plain": [
       "<IPython.core.display.Math object>"
      ]
     },
     "metadata": {},
     "output_type": "display_data"
    },
    {
     "data": {
      "text/latex": [
       "$\\displaystyle \\text{mode 1:}~~~~~~~~~~~\\text{harmonic}~~~~~~~~~~~\\hat{\\varphi}_{1} = \\varphi_{\\text{zp}_{1}} \\left(\\hat{a}_{1} + \\hat{a}^\\dagger_{1}\\right)~~~~~~~~~~~\\omega_{1} / 2 \\pi = 2.17734~~~~~~~~~~~\\varphi_{\\text{zp}_{1}} = 3.1$"
      ],
      "text/plain": [
       "<IPython.core.display.Math object>"
      ]
     },
     "metadata": {},
     "output_type": "display_data"
    },
    {
     "data": {
      "text/latex": [
       "$\\displaystyle $"
      ],
      "text/plain": [
       "<IPython.core.display.Math object>"
      ]
     },
     "metadata": {},
     "output_type": "display_data"
    },
    {
     "data": {
      "text/latex": [
       "$\\displaystyle ------------------------------------------------------------$"
      ],
      "text/plain": [
       "<IPython.core.display.Math object>"
      ]
     },
     "metadata": {},
     "output_type": "display_data"
    },
    {
     "data": {
      "text/latex": [
       "$\\displaystyle \\text{parameters:}~~~~~~~~~~~E_{J_{1}} = 23.513$"
      ],
      "text/plain": [
       "<IPython.core.display.Math object>"
      ]
     },
     "metadata": {},
     "output_type": "display_data"
    },
    {
     "data": {
      "text/latex": [
       "$\\displaystyle \\text{loops:}~~~~~~~~~~~\\varphi_{\\text{ext}_{1}} / 2 \\pi = 0.0$"
      ],
      "text/plain": [
       "<IPython.core.display.Math object>"
      ]
     },
     "metadata": {},
     "output_type": "display_data"
    }
   ],
   "source": [
    "# Note: optimization changes the circuit in-place, so initial_circuit is the same as optimized_circuit\n",
    "optimized_circuit.description()"
   ]
  },
  {
   "cell_type": "markdown",
   "metadata": {},
   "source": [
    "And track how optimization went using data saved in `loss_record` and `metrics_record`. These are dictionaries which save the metrics you chose to track for each step of optimization."
   ]
  },
  {
   "cell_type": "code",
   "execution_count": 19,
   "metadata": {},
   "outputs": [
    {
     "data": {
      "image/png": "[encoded data removed]",
      "text/plain": [
       "<Figure size 1500x700 with 6 Axes>"
      ]
     },
     "metadata": {},
     "output_type": "display_data"
    }
   ],
   "source": [
    "import matplotlib.pyplot as plt\n",
    "\n",
    "fig, axs = plt.subplots(2, 3, figsize=(15, 7))\n",
    "\n",
    "axs[0, 0].semilogy(loss_values['total_loss'])\n",
    "axs[0, 0].set_ylabel('Total loss')\n",
    "axs[0,1].plot(metric_values['number_of_gates'])\n",
    "axs[0, 1].set_ylabel('Number of gates')\n",
    "axs[0, 2].semilogy(metric_values['t1'])\n",
    "axs[0, 2].set_ylabel(r'$T_1$ [s]')\n",
    "axs[1, 0].semilogy(metric_values['t_phi'])\n",
    "axs[1, 0].set_ylabel(r'$T_\\varphi$ [s]')\n",
    "axs[1, 1].plot(metric_values['anharmonicity'])\n",
    "axs[1, 1].set_ylabel(r'$\\omega_{21} - \\omega_{10}$ [GHz]')\n",
    "axs[1, 2].plot(metric_values['frequency'])\n",
    "axs[1, 2].set_ylabel(r'$\\omega_{10}$ [GHz]')\n",
    "\n",
    "fig.tight_layout()"
   ]
  }
 ],
 "metadata": {
  "kernelspec": {
   "display_name": "base",
   "language": "python",
   "name": "python3"
  },
  "language_info": {
   "codemirror_mode": {
    "name": "ipython",
    "version": 3
   },
   "file_extension": ".py",
   "mimetype": "text/x-python",
   "name": "python",
   "nbconvert_exporter": "python",
   "pygments_lexer": "ipython3",
   "version": "3.12.2"
  }
 },
 "nbformat": 4,
 "nbformat_minor": 2
}
