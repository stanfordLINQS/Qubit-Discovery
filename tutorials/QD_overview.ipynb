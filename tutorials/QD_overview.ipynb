{
 "cells": [
  {
   "cell_type": "markdown",
   "metadata": {},
   "source": [
    "# `qubit_discovery` Overview\n",
    "\n",
    "This notebook will guide you through using the core features of the `qubit_discovery` module, and show you how to put them together to optimize a fluxonium circuit using gradient descent. \n",
    "\n",
    "Much of the heavy lifting here is done by [`SQcircuit`](https://sqcircuit.org/), a package for simulating superconducting circuits and calculating gradients using the [`PyTorch`](https://pytorch.org/) engine. This module provides a set of utilities to quickly begin optimization. Before reading this tutorial, familiarize yourself with the basic features of `SQcircuit` [here](https://docs.sqcircuit.org/)."
   ]
  },
  {
   "cell_type": "code",
   "execution_count": 1,
   "metadata": {},
   "outputs": [],
   "source": [
    "import numpy as np\n",
    "import SQcircuit as sq\n",
    "import qubit_discovery as qd"
   ]
  },
  {
   "cell_type": "markdown",
   "metadata": {},
   "source": [
    "## Circuit utilities"
   ]
  },
  {
   "cell_type": "markdown",
   "metadata": {},
   "source": [
    "### Sampling\n",
    "\n",
    "Optimization begins by choosing a random starting point. The `CircuitSampler` class makes this easy to do based on a range of element values you want to sample between. To match the paper [TODO], let's set the allowable element ranges to:\n",
    "\n",
    "| Element type       | Minimum value | Maximum value |\n",
    "|--------------------|---------------|---------------|\n",
    "| Capacitor          | 1 fF          | 12 pF         |\n",
    "| Inductor           | 1 fH          | 5 mH          |\n",
    "| Josephson junction | 1 GHz         | 100 GHz       |\n",
    "\n",
    "Currently `CircuitSampler` only supports circuits with a single inductive loop. However, you can optimize over that too by passing in an allowed flux range $\\subset [0, 1]$."
   ]
  },
  {
   "cell_type": "code",
   "execution_count": 2,
   "metadata": {},
   "outputs": [],
   "source": [
    "from qubit_discovery.optimization import CircuitSampler\n",
    "\n",
    "# Turn on the optimization mode\n",
    "sq.set_optim_mode(True)\n",
    "\n",
    "# Set up a sampler\n",
    "sampler = CircuitSampler(\n",
    "    capacitor_range=[1e-15, 12e-12],    # in F\n",
    "    inductor_range=[1e-15, 5e-6],       # in H\n",
    "    junction_range=[1e9, 100e9],        # in Hz\n",
    "    flux_range=[0, 1]                   # in Phi_0/2π          \n",
    ")"
   ]
  },
  {
   "cell_type": "markdown",
   "metadata": {},
   "source": [
    "The topology of the circuit to be sampled is specified by string called a \"**circuit code**.\" In the case of single-loop circuits, this is a list of the inductive elements present in the loop (`'J'` for Josephson junction and `'L`' for inductor); a more detailed description can be found in the paper [TODO].\n",
    "\n",
    "For instance, a fluxonium has the circuit code `'JL'`."
   ]
  },
  {
   "cell_type": "code",
   "execution_count": 3,
   "metadata": {},
   "outputs": [
    {
     "data": {
      "text/latex": [
       "$\\displaystyle \\hat{H} = \\left(\\omega_{1} \\hat{a}^\\dagger_{1} \\hat{a}_{1} + 0\\right) + E_{J_{1}} \\cos{\\left(\\hat{\\varphi}_{1} + \\varphi_{\\text{ext}_{1}} \\right)}$"
      ],
      "text/plain": [
       "<IPython.core.display.Math object>"
      ]
     },
     "metadata": {},
     "output_type": "display_data"
    },
    {
     "data": {
      "text/latex": [
       "$\\displaystyle ------------------------------------------------------------$"
      ],
      "text/plain": [
       "<IPython.core.display.Math object>"
      ]
     },
     "metadata": {},
     "output_type": "display_data"
    },
    {
     "data": {
      "text/latex": [
       "$\\displaystyle \\text{mode 1:}~~~~~~~~~~~\\text{harmonic}~~~~~~~~~~~\\hat{\\varphi}_{1} = \\varphi_{\\text{zp}_{1}} \\left(\\hat{a}_{1} + \\hat{a}^\\dagger_{1}\\right)~~~~~~~~~~~\\omega_{1} / 2 \\pi = 51.87525~~~~~~~~~~~\\varphi_{\\text{zp}_{1}} = 0.01$"
      ],
      "text/plain": [
       "<IPython.core.display.Math object>"
      ]
     },
     "metadata": {},
     "output_type": "display_data"
    },
    {
     "data": {
      "text/latex": [
       "$\\displaystyle $"
      ],
      "text/plain": [
       "<IPython.core.display.Math object>"
      ]
     },
     "metadata": {},
     "output_type": "display_data"
    },
    {
     "data": {
      "text/latex": [
       "$\\displaystyle ------------------------------------------------------------$"
      ],
      "text/plain": [
       "<IPython.core.display.Math object>"
      ]
     },
     "metadata": {},
     "output_type": "display_data"
    },
    {
     "data": {
      "text/latex": [
       "$\\displaystyle \\text{parameters:}~~~~~~~~~~~E_{J_{1}} = 11.284$"
      ],
      "text/plain": [
       "<IPython.core.display.Math object>"
      ]
     },
     "metadata": {},
     "output_type": "display_data"
    },
    {
     "data": {
      "text/latex": [
       "$\\displaystyle \\text{loops:}~~~~~~~~~~~\\varphi_{\\text{ext}_{1}} / 2 \\pi = 0.33$"
      ],
      "text/plain": [
       "<IPython.core.display.Math object>"
      ]
     },
     "metadata": {},
     "output_type": "display_data"
    }
   ],
   "source": [
    "# Randomly sample a circuit from the element ranges above…\n",
    "fluxonium = sampler.sample_circuit_code('JL')\n",
    "# …and print out the description.\n",
    "fluxonium.description()"
   ]
  },
  {
   "cell_type": "markdown",
   "metadata": {},
   "source": [
    "### Truncating circuits"
   ]
  },
  {
   "cell_type": "markdown",
   "metadata": {},
   "source": [
    "To numerically simulate the circuit, the infinite-dimensional Hamiltonian must be truncated. In `SQcircuit`, this is done by choosing truncation numbers for each circuit mode.\n",
    "\n",
    "In circuits which have multiples modes, it can be difficult to decide how choose truncation numbers. For instance, consider a `'JLL'` circuit, which has two harmonic modes.\n",
    "\n",
    "TODO: add picture"
   ]
  },
  {
   "cell_type": "code",
   "execution_count": 4,
   "metadata": {},
   "outputs": [
    {
     "data": {
      "text/latex": [
       "$\\displaystyle \\hat{H} = \\left(\\left(\\omega_{1} \\hat{a}^\\dagger_{1} \\hat{a}_{1} + \\omega_{2} \\hat{a}^\\dagger_{2} \\hat{a}_{2}\\right) + 0\\right) + E_{J_{1}} \\cos{\\left(- \\hat{\\varphi}_{1} + \\hat{\\varphi}_{2} + \\varphi_{\\text{ext}_{1}} \\right)}$"
      ],
      "text/plain": [
       "<IPython.core.display.Math object>"
      ]
     },
     "metadata": {},
     "output_type": "display_data"
    },
    {
     "data": {
      "text/latex": [
       "$\\displaystyle ------------------------------------------------------------$"
      ],
      "text/plain": [
       "<IPython.core.display.Math object>"
      ]
     },
     "metadata": {},
     "output_type": "display_data"
    },
    {
     "data": {
      "text/latex": [
       "$\\displaystyle \\text{mode 1:}~~~~~~~~~~~\\text{harmonic}~~~~~~~~~~~\\hat{\\varphi}_{1} = \\varphi_{\\text{zp}_{1}} \\left(\\hat{a}_{1} + \\hat{a}^\\dagger_{1}\\right)~~~~~~~~~~~\\omega_{1} / 2 \\pi = 5807.11864~~~~~~~~~~~\\varphi_{\\text{zp}_{1}} = 0.0$"
      ],
      "text/plain": [
       "<IPython.core.display.Math object>"
      ]
     },
     "metadata": {},
     "output_type": "display_data"
    },
    {
     "data": {
      "text/latex": [
       "$\\displaystyle \\text{mode 2:}~~~~~~~~~~~\\text{harmonic}~~~~~~~~~~~\\hat{\\varphi}_{2} = \\varphi_{\\text{zp}_{2}} \\left(\\hat{a}_{2} + \\hat{a}^\\dagger_{2}\\right)~~~~~~~~~~~\\omega_{2} / 2 \\pi = 0.39808~~~~~~~~~~~\\varphi_{\\text{zp}_{2}} = 0.29$"
      ],
      "text/plain": [
       "<IPython.core.display.Math object>"
      ]
     },
     "metadata": {},
     "output_type": "display_data"
    },
    {
     "data": {
      "text/latex": [
       "$\\displaystyle $"
      ],
      "text/plain": [
       "<IPython.core.display.Math object>"
      ]
     },
     "metadata": {},
     "output_type": "display_data"
    },
    {
     "data": {
      "text/latex": [
       "$\\displaystyle ------------------------------------------------------------$"
      ],
      "text/plain": [
       "<IPython.core.display.Math object>"
      ]
     },
     "metadata": {},
     "output_type": "display_data"
    },
    {
     "data": {
      "text/latex": [
       "$\\displaystyle \\text{parameters:}~~~~~~~~~~~E_{J_{1}} = 3.641$"
      ],
      "text/plain": [
       "<IPython.core.display.Math object>"
      ]
     },
     "metadata": {},
     "output_type": "display_data"
    },
    {
     "data": {
      "text/latex": [
       "$\\displaystyle \\text{loops:}~~~~~~~~~~~\\varphi_{\\text{ext}_{1}} / 2 \\pi = 0.02$"
      ],
      "text/plain": [
       "<IPython.core.display.Math object>"
      ]
     },
     "metadata": {},
     "output_type": "display_data"
    }
   ],
   "source": [
    "circuit = sampler.sample_circuit_code('JLL')\n",
    "circuit.description()"
   ]
  },
  {
   "cell_type": "markdown",
   "metadata": {},
   "source": [
    "As you can see, the first mode has a much higher characteristic frequency, so will participate less strongly in the low-energy modes of the circuit. \n",
    "\n",
    "During optimization, we want to constrain the time and memory it takes to diagonalize by fixing a maximum Hilbert space dimension $K$. Without prior knowledge of the circuit, the only reasonable solution is to assign each of the modes of the circuit a truncation number $K^{1/2}$ (so that the total tensor-product Hilbert space has dimension $K$)."
   ]
  },
  {
   "cell_type": "code",
   "execution_count": 10,
   "metadata": {},
   "outputs": [
    {
     "name": "stdout",
     "output_type": "stream",
     "text": [
      "set_trunc_nums called\n",
      "Truncation numbers [27, 27]\n"
     ]
    }
   ],
   "source": [
    "K = 750\n",
    "circuit.set_trunc_nums([int(K**(1/2)), int(K**(1/2))])\n",
    "print('Truncation numbers', circuit.trunc_nums)\n",
    "# circuit.check_convergence()"
   ]
  },
  {
   "cell_type": "markdown",
   "metadata": {},
   "source": [
    "The `qubit_discovery` module offers a function `assign_trunc_nums` which analyzes the circuit to understand which modes are important for the low-energy states, and preferentially assign higher truncation numbers to those modes. It takes in a desired total truncation number (maximum Hilbert space size) $K$ and uses a heuristic method to decide how to allocate truncation numbers to each mode. \n",
    "\n",
    "Using this function, circuits can be accurately simulated with a lower $K$ than when assigning each mode an equal truncation number."
   ]
  },
  {
   "cell_type": "code",
   "execution_count": 11,
   "metadata": {},
   "outputs": [
    {
     "name": "stdout",
     "output_type": "stream",
     "text": [
      "diag called\n",
      "re-allocate truncation numbers (2+ modes)\n",
      "set_trunc_nums called\n",
      "New truncation numbers [5, 145]\n"
     ]
    }
   ],
   "source": [
    "circuit.diag(10)\n",
    "qd.optimization.assign_trunc_nums(circuit, total_trunc_num=K)\n",
    "print('New truncation numbers', circuit.trunc_nums)\n",
    "# circuit.check_convergence()"
   ]
  },
  {
   "cell_type": "markdown",
   "metadata": {},
   "source": [
    "## Constructing a loss function"
   ]
  },
  {
   "cell_type": "markdown",
   "metadata": {},
   "source": [
    "A loss function is built out of a number of component metrics you want to optimize for. The `qubit_discovery.losses` module offers a number of pre-built metrics, which can be accessed with the `get_all_metrics()` function."
   ]
  },
  {
   "cell_type": "code",
   "execution_count": 4,
   "metadata": {},
   "outputs": [
    {
     "data": {
      "text/plain": [
       "['frequency',\n",
       " 'flux_sensitivity',\n",
       " 'charge_sensitivity',\n",
       " 'number_of_gates',\n",
       " 'anharmonicity',\n",
       " 'element_sensitivity',\n",
       " 'gate_speed',\n",
       " 't',\n",
       " 't1',\n",
       " 't1_capacitive',\n",
       " 't1_inductive',\n",
       " 't1_quasiparticle',\n",
       " 't_phi',\n",
       " 't_phi_charge',\n",
       " 't_phi_cc',\n",
       " 't_phi_flux',\n",
       " 't2',\n",
       " 't2_charge',\n",
       " 't2_cc',\n",
       " 't2_flux']"
      ]
     },
     "execution_count": 4,
     "metadata": {},
     "output_type": "execute_result"
    }
   ],
   "source": [
    "qd.losses.get_all_metrics()"
   ]
  },
  {
   "cell_type": "markdown",
   "metadata": {},
   "source": [
    "All the metrics functions are available in the `ALL_METRICS` dictionary; call `help()` on any of them for more details about what a particular loss is."
   ]
  },
  {
   "cell_type": "code",
   "execution_count": 5,
   "metadata": {},
   "outputs": [
    {
     "name": "stdout",
     "output_type": "stream",
     "text": [
      "Help on function flux_sensitivity_loss in module qubit_discovery.losses.loss:\n",
      "\n",
      "flux_sensitivity_loss(circuit: SQcircuit.circuit.Circuit, a=0.1, b=1) -> Tuple[Union[float, torch.Tensor], Union[float, torch.Tensor]]\n",
      "    Applies a hinge loss to flux sensitivity of circuit. The flux sensitivity\n",
      "    is the normalized variation in qubit frequency for small perturbations of\n",
      "    the external flux about the operating point. See ``functions.flux_sensitivity``\n",
      "    for more details.\n",
      "    \n",
      "    Parameters\n",
      "    ----------\n",
      "        circuit:\n",
      "            A ``Circuit`` object specifying the qubit.\n",
      "        a:\n",
      "            The cutoff above which to apply the hinge loss.\n",
      "        b:\n",
      "            The slope for the hinge loss.\n",
      "    \n",
      "    Returns\n",
      "    ----------\n",
      "        loss:\n",
      "            The hinge loss applied to S. \n",
      "        S:\n",
      "            The flux sensitivity of ``circuit``.\n",
      "\n"
     ]
    }
   ],
   "source": [
    "help(qd.losses.ALL_METRICS['flux_sensitivity'])"
   ]
  },
  {
   "cell_type": "markdown",
   "metadata": {},
   "source": [
    "After deciding the metrics you want to optimize for, you can build a loss function using the `build_loss_function` constructor. This takes in two inputs\n",
    "1. The list of metrics you want to optimize for, and the weights in the loss function. The total loss function is then constructed as\n",
    "\n",
    "$$ \\mathcal{L}_\\text{tot} = \\sum_\\text{metrics} \\text{weight} \\times \\mathcal{L}_\\text{metric} $$\n",
    "\n",
    "2. A list of other metrics you want to track during optimization. (For instance, you may only want to optimize for $T_2$ time, but still track what the qubit frequency is.)\n",
    "\n",
    "Each metric is identified by a name, provided by `get_all_metrics()`.\n",
    "\n",
    "Below, we'll build a loss function which optimizes for low charge sensitivity, low flux sensitivity, and a large number of single-qubit gates, for simplicity all with the same weight. We'll also track a lot of metrics -- $T_1$, $T_\\varphi$, $T_2$, and $f_{01}$."
   ]
  },
  {
   "cell_type": "code",
   "execution_count": 8,
   "metadata": {},
   "outputs": [],
   "source": [
    "my_loss_function = qd.losses.build_loss_function(\n",
    "    use_losses = {\n",
    "        'flux_sensitivity': 1.0,\n",
    "        'number_of_gates': 1.0\n",
    "    },\n",
    "    use_metrics = [\n",
    "        't1', \n",
    "        't_phi',\n",
    "        't2',\n",
    "        'frequency'\n",
    "    ]\n",
    ")"
   ]
  },
  {
   "cell_type": "markdown",
   "metadata": {},
   "source": [
    "## Performing optimization\n",
    "\n",
    "Now that we've sampled a random circuit and built our loss function, we can perform optimization. Currently, `qubit_discovery` offers two ready-built algorithsm: gradient descent and BFGS. These algorithms internally implement the truncation procedures described above.\n",
    "\n",
    "To optimize the loss function, we'll use BFGS by calling `run_BFGS`. SGD can be run with `run_SGD`, which has the same signature."
   ]
  },
  {
   "cell_type": "code",
   "execution_count": 43,
   "metadata": {},
   "outputs": [
    {
     "name": "stdout",
     "output_type": "stream",
     "text": [
      "[tensor(1.0114, dtype=torch.float64, requires_grad=True), tensor(3.1694e+11, dtype=torch.float64, requires_grad=True), tensor(5.0795e-11, dtype=torch.float64, requires_grad=True), tensor(2.7220e-15, dtype=torch.float64, requires_grad=True)]\n",
      "set_trunc_nums called\n",
      "diag called\n",
      "diag called\n"
     ]
    },
    {
     "ename": "",
     "evalue": "",
     "output_type": "error",
     "traceback": [
      "\u001b[1;31mThe Kernel crashed while executing code in the current cell or a previous cell. \n",
      "\u001b[1;31mPlease review the code in the cell(s) to identify a possible cause of the failure. \n",
      "\u001b[1;31mClick <a href='https://aka.ms/vscodeJupyterKernelCrash'>here</a> for more info. \n",
      "\u001b[1;31mView Jupyter <a href='command:jupyter.viewOutput'>log</a> for further details."
     ]
    }
   ],
   "source": [
    "optimized_circuit, loss_values, metric_values = qd.optimization.run_BFGS(\n",
    "    circuit=fluxonium,                          # Starting point\n",
    "    loss_metric_function=my_loss_function,      # Loss function to optimize\n",
    "    max_iter=30,                                # Maximum number of iterations\n",
    "    total_trunc_num=200,                        # Total truncation numbers\n",
    "    bounds=sampler.bounds                       # Bounds to keep the circuit within during optimization.\n",
    ")"
   ]
  },
  {
   "cell_type": "code",
   "execution_count": null,
   "metadata": {},
   "outputs": [],
   "source": []
  }
 ],
 "metadata": {
  "kernelspec": {
   "display_name": "base",
   "language": "python",
   "name": "python3"
  },
  "language_info": {
   "codemirror_mode": {
    "name": "ipython",
    "version": 3
   },
   "file_extension": ".py",
   "mimetype": "text/x-python",
   "name": "python",
   "nbconvert_exporter": "python",
   "pygments_lexer": "ipython3",
   "version": "3.10.9"
  }
 },
 "nbformat": 4,
 "nbformat_minor": 2
}
