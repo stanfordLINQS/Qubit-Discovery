{
 "cells": [
  {
   "cell_type": "markdown",
   "metadata": {},
   "source": [
    "# `qubit_discovery` Transmon Optimization\n",
    "\n",
    "Here, we use `qubit_discovery` to optimize an asymmetric transmon for a specific target frequency $f_{01}^*$ and long $T_2$ time. The point of this notebook is to show an entire workflow start-to-end; see the other tutorial notebooks for more details about the different functions used."
   ]
  },
  {
   "cell_type": "code",
   "execution_count": 1,
   "metadata": {},
   "outputs": [
    {
     "ename": "",
     "evalue": "",
     "output_type": "error",
     "traceback": [
      "\u001b[1;31mThe Kernel crashed while executing code in the current cell or a previous cell. \n",
      "\u001b[1;31mPlease review the code in the cell(s) to identify a possible cause of the failure. \n",
      "\u001b[1;31mClick <a href='https://aka.ms/vscodeJupyterKernelCrash'>here</a> for more info. \n",
      "\u001b[1;31mView Jupyter <a href='command:jupyter.viewOutput'>log</a> for further details."
     ]
    }
   ],
   "source": [
    "import matplotlib.pyplot as plt\n",
    "import numpy as np\n",
    "import qubit_discovery as qd\n",
    "import SQcircuit as sq"
   ]
  },
  {
   "cell_type": "markdown",
   "metadata": {},
   "source": [
    "1. Initialize a sampler to randomly sample circuits from allowed element ranges."
   ]
  },
  {
   "cell_type": "code",
   "execution_count": 2,
   "metadata": {},
   "outputs": [],
   "source": [
    "# Turn on optimization\n",
    "sq.set_optim_mode(True)\n",
    "\n",
    "# Construct circuit sampler\n",
    "sampler = qd.optimization.CircuitSampler(\n",
    "    capacitor_range=[1e-15, 12e-12],    # in F\n",
    "    inductor_range=[1e-15, 5e-6],       # in H\n",
    "    junction_range=[1e9, 100e9],        # in Hz\n",
    "    flux_range=[0, 2 * np.pi]   \n",
    ")"
   ]
  },
  {
   "cell_type": "markdown",
   "metadata": {},
   "source": [
    "2. Construct loss function, using some built-in and some custom metrics. We'll optimize for\n",
    "- A target qubit frequency of 6.5 GHz (custom metric)\n",
    "- A long $T_2$ time.\n",
    "- Low sensitivity to external flux and charge"
   ]
  },
  {
   "cell_type": "code",
   "execution_count": 3,
   "metadata": {},
   "outputs": [],
   "source": [
    "# Construct a custom metric function for target frequency\n",
    "TARGET_FREQUENCY = 6.5\n",
    "\n",
    "def target_freq_loss(circuit):\n",
    "    circuit_freq = circuit.efreqs[1] - circuit.efreqs[0]\n",
    "\n",
    "    loss = ((circuit_freq - TARGET_FREQUENCY)/TARGET_FREQUENCY)**2\n",
    "    return loss, circuit_freq\n",
    "\n",
    "qd.losses.add_to_metrics('target_frequency', target_freq_loss)\n",
    "\n",
    "\n",
    "# Build total loss function \n",
    "my_loss_function = qd.losses.build_loss_function(\n",
    "    use_losses={ # setting all weights equal for this example\n",
    "        'target_frequency': 1.0,\n",
    "        't2': 1.0,\n",
    "        'charge_sensitivity': 1.0,\n",
    "        'flux_sensitivity': 1.0\n",
    "    },\n",
    "    use_metrics=['t1', 't_phi'] # interesting to track T1 and T_phi\n",
    ")"
   ]
  },
  {
   "cell_type": "markdown",
   "metadata": {},
   "source": [
    "3. Perform the optimization. Because gradient descent can get stuck in local minima, we run optimization 10 times with different random initializations."
   ]
  },
  {
   "cell_type": "code",
   "execution_count": 4,
   "metadata": {},
   "outputs": [
    {
     "name": "stdout",
     "output_type": "stream",
     "text": [
      "set_trunc_nums called\n",
      "diag called\n",
      "diag called\n",
      "diag called\n",
      "diag called\n",
      "diag called\n"
     ]
    },
    {
     "ename": "TypeError",
     "evalue": "DecRateCharge.forward() takes 3 positional arguments but 4 were given",
     "output_type": "error",
     "traceback": [
      "\u001b[0;31m---------------------------------------------------------------------------\u001b[0m",
      "\u001b[0;31mTypeError\u001b[0m                                 Traceback (most recent call last)",
      "Cell \u001b[0;32mIn[4], line 6\u001b[0m\n\u001b[1;32m      4\u001b[0m \u001b[38;5;28;01mfor\u001b[39;00m i \u001b[38;5;129;01min\u001b[39;00m \u001b[38;5;28mrange\u001b[39m(\u001b[38;5;241m10\u001b[39m):\n\u001b[1;32m      5\u001b[0m     circuit \u001b[38;5;241m=\u001b[39m sampler\u001b[38;5;241m.\u001b[39msample_circuit_code(\u001b[38;5;124m'\u001b[39m\u001b[38;5;124mJJ\u001b[39m\u001b[38;5;124m'\u001b[39m)\n\u001b[0;32m----> 6\u001b[0m     final_circuits, params, optim_results \u001b[38;5;241m=\u001b[39m \u001b[43mqd\u001b[49m\u001b[38;5;241;43m.\u001b[39;49m\u001b[43moptimization\u001b[49m\u001b[38;5;241;43m.\u001b[39;49m\u001b[43mrun_BFGS\u001b[49m\u001b[43m(\u001b[49m\n\u001b[1;32m      7\u001b[0m \u001b[43m        \u001b[49m\u001b[43mcircuit\u001b[49m\u001b[43m \u001b[49m\u001b[38;5;241;43m=\u001b[39;49m\u001b[43m \u001b[49m\u001b[43mcircuit\u001b[49m\u001b[43m,\u001b[49m\n\u001b[1;32m      8\u001b[0m \u001b[43m        \u001b[49m\u001b[43mloss_metric_function\u001b[49m\u001b[43m  \u001b[49m\u001b[38;5;241;43m=\u001b[39;49m\u001b[43m \u001b[49m\u001b[43mmy_loss_function\u001b[49m\u001b[43m,\u001b[49m\n\u001b[1;32m      9\u001b[0m \u001b[43m        \u001b[49m\u001b[43mmax_iter\u001b[49m\u001b[43m \u001b[49m\u001b[38;5;241;43m=\u001b[39;49m\u001b[43m \u001b[49m\u001b[38;5;241;43m30\u001b[39;49m\u001b[43m,\u001b[49m\n\u001b[1;32m     10\u001b[0m \u001b[43m        \u001b[49m\u001b[43mtotal_trunc_num\u001b[49m\u001b[43m \u001b[49m\u001b[38;5;241;43m=\u001b[39;49m\u001b[43m \u001b[49m\u001b[38;5;241;43m50\u001b[39;49m\u001b[43m,\u001b[49m\n\u001b[1;32m     11\u001b[0m \u001b[43m        \u001b[49m\u001b[43mbounds\u001b[49m\u001b[43m \u001b[49m\u001b[38;5;241;43m=\u001b[39;49m\u001b[43m \u001b[49m\u001b[43msampler\u001b[49m\u001b[38;5;241;43m.\u001b[39;49m\u001b[43mbounds\u001b[49m\u001b[43m,\u001b[49m\n\u001b[1;32m     12\u001b[0m \u001b[43m    \u001b[49m\u001b[43m)\u001b[49m\n\u001b[1;32m     13\u001b[0m     optimized_circuits\u001b[38;5;241m.\u001b[39mappend[final_circuits]\n\u001b[1;32m     14\u001b[0m     optim_records\u001b[38;5;241m.\u001b[39mappend(optim_results)\n",
      "File \u001b[0;32m~/Desktop/School/lab/Qubit-Discovery/qubit_discovery/optimization/BFGS.py:171\u001b[0m, in \u001b[0;36mrun_BFGS\u001b[0;34m(circuit, loss_metric_function, max_iter, total_trunc_num, bounds, num_eigenvalues, lr, tolerance, save_loc, identifier, save_intermediate_circuits, verbose)\u001b[0m\n\u001b[1;32m    168\u001b[0m circuit\u001b[38;5;241m.\u001b[39mdiag(num_eigenvalues)\n\u001b[1;32m    170\u001b[0m \u001b[38;5;66;03m# Get gradient and loss values to start with\u001b[39;00m\n\u001b[0;32m--> 171\u001b[0m loss, loss_values, metric_values \u001b[38;5;241m=\u001b[39m \u001b[43mloss_metric_function\u001b[49m\u001b[43m(\u001b[49m\u001b[43mcircuit\u001b[49m\u001b[43m)\u001b[49m\n\u001b[1;32m    172\u001b[0m loss_record, metric_record \u001b[38;5;241m=\u001b[39m init_records(\n\u001b[1;32m    173\u001b[0m     loss_values,\n\u001b[1;32m    174\u001b[0m     metric_values\n\u001b[1;32m    175\u001b[0m )\n\u001b[1;32m    177\u001b[0m \u001b[38;5;28;01mdef\u001b[39;00m \u001b[38;5;21mobjective_func\u001b[39m(cr: Circuit, x: Tensor):\n",
      "File \u001b[0;32m~/Desktop/School/lab/Qubit-Discovery/qubit_discovery/losses/loss.py:442\u001b[0m, in \u001b[0;36mbuild_loss_function.<locals>.<lambda>\u001b[0;34m(circuit)\u001b[0m\n\u001b[1;32m    409\u001b[0m \u001b[38;5;28;01mdef\u001b[39;00m \u001b[38;5;21mbuild_loss_function\u001b[39m(\n\u001b[1;32m    410\u001b[0m     use_losses: Dict[\u001b[38;5;28mstr\u001b[39m, \u001b[38;5;28mfloat\u001b[39m],\n\u001b[1;32m    411\u001b[0m     use_metrics: List[\u001b[38;5;28mstr\u001b[39m],\n\u001b[1;32m    412\u001b[0m     master_use_grad: \u001b[38;5;28mbool\u001b[39m \u001b[38;5;241m=\u001b[39m \u001b[38;5;28;01mTrue\u001b[39;00m\n\u001b[1;32m    413\u001b[0m ) \u001b[38;5;241m-\u001b[39m\u001b[38;5;241m>\u001b[39m LossFunctionType:\n\u001b[1;32m    414\u001b[0m \u001b[38;5;250m    \u001b[39m\u001b[38;5;124;03m\"\"\"Build a loss function based on the metrics provided in ``use_losses``.\u001b[39;00m\n\u001b[1;32m    415\u001b[0m \u001b[38;5;124;03m    The constructed loss function will also calculate metrics in\u001b[39;00m\n\u001b[1;32m    416\u001b[0m \u001b[38;5;124;03m    ``use_metrics``.\u001b[39;00m\n\u001b[0;32m   (...)\u001b[0m\n\u001b[1;32m    440\u001b[0m \u001b[38;5;124;03m        well as the metrics in ``use_metrics``.\u001b[39;00m\n\u001b[1;32m    441\u001b[0m \u001b[38;5;124;03m    \"\"\"\u001b[39;00m\n\u001b[0;32m--> 442\u001b[0m     \u001b[38;5;28;01mreturn\u001b[39;00m \u001b[38;5;28;01mlambda\u001b[39;00m circuit: \u001b[43mcalculate_loss_metrics\u001b[49m\u001b[43m(\u001b[49m\n\u001b[1;32m    443\u001b[0m \u001b[43m        \u001b[49m\u001b[43mcircuit\u001b[49m\u001b[43m,\u001b[49m\n\u001b[1;32m    444\u001b[0m \u001b[43m        \u001b[49m\u001b[43muse_losses\u001b[49m\u001b[43m,\u001b[49m\n\u001b[1;32m    445\u001b[0m \u001b[43m        \u001b[49m\u001b[43muse_metrics\u001b[49m\u001b[43m,\u001b[49m\n\u001b[1;32m    446\u001b[0m \u001b[43m        \u001b[49m\u001b[43mmaster_use_grad\u001b[49m\u001b[38;5;241;43m=\u001b[39;49m\u001b[43mmaster_use_grad\u001b[49m\n\u001b[1;32m    447\u001b[0m \u001b[43m    \u001b[49m\u001b[43m)\u001b[49m\n",
      "File \u001b[0;32m~/Desktop/School/lab/Qubit-Discovery/qubit_discovery/losses/loss.py:509\u001b[0m, in \u001b[0;36mcalculate_loss_metrics\u001b[0;34m(circuit, use_losses, use_metrics, master_use_grad)\u001b[0m\n\u001b[1;32m    507\u001b[0m \u001b[38;5;28;01melif\u001b[39;00m key \u001b[38;5;129;01mnot\u001b[39;00m \u001b[38;5;129;01min\u001b[39;00m use_losses \u001b[38;5;129;01mand\u001b[39;00m key \u001b[38;5;129;01min\u001b[39;00m use_metrics:\n\u001b[1;32m    508\u001b[0m     \u001b[38;5;28;01mwith\u001b[39;00m torch\u001b[38;5;241m.\u001b[39mno_grad():\n\u001b[0;32m--> 509\u001b[0m         specific_loss, specific_metric \u001b[38;5;241m=\u001b[39m \u001b[43mALL_FUNCTIONS\u001b[49m\u001b[43m[\u001b[49m\u001b[43mkey\u001b[49m\u001b[43m]\u001b[49m\u001b[43m(\u001b[49m\u001b[43mcircuit\u001b[49m\u001b[43m)\u001b[49m\n\u001b[1;32m    511\u001b[0m         loss_values[key \u001b[38;5;241m+\u001b[39m \u001b[38;5;124m'\u001b[39m\u001b[38;5;124m_loss\u001b[39m\u001b[38;5;124m'\u001b[39m] \u001b[38;5;241m=\u001b[39m detach_if_optim(specific_loss)\n\u001b[1;32m    512\u001b[0m         metrics[key] \u001b[38;5;241m=\u001b[39m detach_if_optim(specific_metric)\n",
      "File \u001b[0;32m~/Desktop/School/lab/Qubit-Discovery/qubit_discovery/losses/loss.py:88\u001b[0m, in \u001b[0;36mt_phi_loss\u001b[0;34m(circuit, dec_type)\u001b[0m\n\u001b[1;32m     67\u001b[0m \u001b[38;5;28;01mdef\u001b[39;00m \u001b[38;5;21mt_phi_loss\u001b[39m(\n\u001b[1;32m     68\u001b[0m         circuit: Circuit,\n\u001b[1;32m     69\u001b[0m         dec_type\u001b[38;5;241m=\u001b[39m\u001b[38;5;124m'\u001b[39m\u001b[38;5;124mtotal\u001b[39m\u001b[38;5;124m'\u001b[39m\n\u001b[1;32m     70\u001b[0m ) \u001b[38;5;241m-\u001b[39m\u001b[38;5;241m>\u001b[39m Tuple[SQValType, SQValType]:\n\u001b[1;32m     71\u001b[0m \u001b[38;5;250m    \u001b[39m\u001b[38;5;124;03m\"\"\"Computes the dephasing time of the qubit.\u001b[39;00m\n\u001b[1;32m     72\u001b[0m \n\u001b[1;32m     73\u001b[0m \u001b[38;5;124;03m    Parameters\u001b[39;00m\n\u001b[0;32m   (...)\u001b[0m\n\u001b[1;32m     86\u001b[0m \u001b[38;5;124;03m            The dephasing time of ``circuit``.\u001b[39;00m\n\u001b[1;32m     87\u001b[0m \u001b[38;5;124;03m    \"\"\"\u001b[39;00m\n\u001b[0;32m---> 88\u001b[0m     tp \u001b[38;5;241m=\u001b[39m \u001b[43mdecoherence_time\u001b[49m\u001b[43m(\u001b[49m\n\u001b[1;32m     89\u001b[0m \u001b[43m        \u001b[49m\u001b[43mcircuit\u001b[49m\u001b[38;5;241;43m=\u001b[39;49m\u001b[43mcircuit\u001b[49m\u001b[43m,\u001b[49m\n\u001b[1;32m     90\u001b[0m \u001b[43m        \u001b[49m\u001b[43mt_type\u001b[49m\u001b[38;5;241;43m=\u001b[39;49m\u001b[38;5;124;43m'\u001b[39;49m\u001b[38;5;124;43mt_phi\u001b[39;49m\u001b[38;5;124;43m'\u001b[39;49m\u001b[43m,\u001b[49m\n\u001b[1;32m     91\u001b[0m \u001b[43m        \u001b[49m\u001b[43mdec_type\u001b[49m\u001b[38;5;241;43m=\u001b[39;49m\u001b[43mdec_type\u001b[49m\n\u001b[1;32m     92\u001b[0m \u001b[43m    \u001b[49m\u001b[43m)\u001b[49m\n\u001b[1;32m     94\u001b[0m     \u001b[38;5;28;01mreturn\u001b[39;00m zero(), tp\n",
      "File \u001b[0;32m~/Desktop/School/lab/Qubit-Discovery/qubit_discovery/losses/functions.py:136\u001b[0m, in \u001b[0;36mdecoherence_time\u001b[0;34m(circuit, t_type, dec_type)\u001b[0m\n\u001b[1;32m    133\u001b[0m     \u001b[38;5;28;01mraise\u001b[39;00m \u001b[38;5;167;01mValueError\u001b[39;00m(\u001b[38;5;124m\"\u001b[39m\u001b[38;5;124mt_type must be either \u001b[39m\u001b[38;5;124m'\u001b[39m\u001b[38;5;124mt1\u001b[39m\u001b[38;5;124m'\u001b[39m\u001b[38;5;124m or \u001b[39m\u001b[38;5;124m'\u001b[39m\u001b[38;5;124mt_phi\u001b[39m\u001b[38;5;124m'\u001b[39m\u001b[38;5;124m\"\u001b[39m)\n\u001b[1;32m    135\u001b[0m \u001b[38;5;28;01mfor\u001b[39;00m dec_type \u001b[38;5;129;01min\u001b[39;00m dec_type_list:\n\u001b[0;32m--> 136\u001b[0m     gamma \u001b[38;5;241m=\u001b[39m gamma \u001b[38;5;241m+\u001b[39m \u001b[43mcircuit\u001b[49m\u001b[38;5;241;43m.\u001b[39;49m\u001b[43mdec_rate\u001b[49m\u001b[43m(\u001b[49m\u001b[43mdec_type\u001b[49m\u001b[43m,\u001b[49m\u001b[43m \u001b[49m\u001b[43m(\u001b[49m\u001b[38;5;241;43m0\u001b[39;49m\u001b[43m,\u001b[49m\u001b[43m \u001b[49m\u001b[38;5;241;43m1\u001b[39;49m\u001b[43m)\u001b[49m\u001b[43m)\u001b[49m\n\u001b[1;32m    138\u001b[0m \u001b[38;5;28;01mreturn\u001b[39;00m \u001b[38;5;241m1\u001b[39m \u001b[38;5;241m/\u001b[39m gamma\n",
      "File \u001b[0;32m~/Desktop/School/lab/SQcircuit/SQcircuit/circuit.py:2376\u001b[0m, in \u001b[0;36mCircuit.dec_rate\u001b[0;34m(self, dec_type, states, total)\u001b[0m\n\u001b[1;32m   2374\u001b[0m \u001b[38;5;28;01melif\u001b[39;00m dec_type \u001b[38;5;241m==\u001b[39m \u001b[38;5;124m\"\u001b[39m\u001b[38;5;124mcharge\u001b[39m\u001b[38;5;124m\"\u001b[39m:\n\u001b[1;32m   2375\u001b[0m     \u001b[38;5;28;01mif\u001b[39;00m get_optim_mode():\n\u001b[0;32m-> 2376\u001b[0m         decay \u001b[38;5;241m=\u001b[39m decay \u001b[38;5;241m+\u001b[39m \u001b[43msqtorch\u001b[49m\u001b[38;5;241;43m.\u001b[39;49m\u001b[43mdec_rate_charge_torch\u001b[49m\u001b[43m(\u001b[49m\u001b[38;5;28;43mself\u001b[39;49m\u001b[43m,\u001b[49m\u001b[43m \u001b[49m\u001b[43mstates\u001b[49m\u001b[43m)\u001b[49m\n\u001b[1;32m   2377\u001b[0m     \u001b[38;5;28;01melse\u001b[39;00m:\n\u001b[1;32m   2378\u001b[0m         decay \u001b[38;5;241m=\u001b[39m decay \u001b[38;5;241m+\u001b[39m \u001b[38;5;28mself\u001b[39m\u001b[38;5;241m.\u001b[39m_dec_rate_charge_np(states)\n",
      "File \u001b[0;32m~/Desktop/School/lab/SQcircuit/SQcircuit/torch_extensions.py:101\u001b[0m, in \u001b[0;36mdec_rate_charge_torch\u001b[0;34m(circuit, states)\u001b[0m\n\u001b[1;32m     83\u001b[0m \u001b[38;5;28;01mdef\u001b[39;00m \u001b[38;5;21mdec_rate_charge_torch\u001b[39m(\n\u001b[1;32m     84\u001b[0m         circuit: \u001b[38;5;124m'\u001b[39m\u001b[38;5;124mCircuit\u001b[39m\u001b[38;5;124m'\u001b[39m,\n\u001b[1;32m     85\u001b[0m         states: Tuple[\u001b[38;5;28mint\u001b[39m, \u001b[38;5;28mint\u001b[39m]\n\u001b[1;32m     86\u001b[0m ) \u001b[38;5;241m-\u001b[39m\u001b[38;5;241m>\u001b[39m Tensor:\n\u001b[1;32m     87\u001b[0m \u001b[38;5;250m    \u001b[39m\u001b[38;5;124;03m\"\"\"Given a circuit, computes charge dephasing rate using the\u001b[39;00m\n\u001b[1;32m     88\u001b[0m \u001b[38;5;124;03m    ``DecRateCharge`` class.\u001b[39;00m\n\u001b[1;32m     89\u001b[0m \n\u001b[0;32m   (...)\u001b[0m\n\u001b[1;32m     99\u001b[0m \u001b[38;5;124;03m        The charge dephasing rate of ``circuit`` between ``states``.\u001b[39;00m\n\u001b[1;32m    100\u001b[0m \u001b[38;5;124;03m    \"\"\"\u001b[39;00m\n\u001b[0;32m--> 101\u001b[0m     \u001b[38;5;28;01mreturn\u001b[39;00m \u001b[43mDecRateCharge\u001b[49m\u001b[38;5;241;43m.\u001b[39;49m\u001b[43mapply\u001b[49m\u001b[43m(\u001b[49m\n\u001b[1;32m    102\u001b[0m \u001b[43m        \u001b[49m\u001b[43mtorch\u001b[49m\u001b[38;5;241;43m.\u001b[39;49m\u001b[43mstack\u001b[49m\u001b[43m(\u001b[49m\u001b[43mcircuit\u001b[49m\u001b[38;5;241;43m.\u001b[39;49m\u001b[43mparameters\u001b[49m\u001b[43m)\u001b[49m\u001b[43m \u001b[49m\u001b[38;5;28;43;01mif\u001b[39;49;00m\u001b[43m \u001b[49m\u001b[43mcircuit\u001b[49m\u001b[38;5;241;43m.\u001b[39;49m\u001b[43mparameters\u001b[49m\u001b[43m \u001b[49m\u001b[38;5;28;43;01melse\u001b[39;49;00m\u001b[43m \u001b[49m\u001b[43mtorch\u001b[49m\u001b[38;5;241;43m.\u001b[39;49m\u001b[43mtensor\u001b[49m\u001b[43m(\u001b[49m\u001b[43m[\u001b[49m\u001b[43m]\u001b[49m\u001b[43m)\u001b[49m\u001b[43m,\u001b[49m\n\u001b[1;32m    103\u001b[0m \u001b[43m        \u001b[49m\u001b[43mcircuit\u001b[49m\u001b[43m,\u001b[49m\n\u001b[1;32m    104\u001b[0m \u001b[43m        \u001b[49m\u001b[43mstates\u001b[49m\n\u001b[1;32m    105\u001b[0m \u001b[43m    \u001b[49m\u001b[43m)\u001b[49m\n",
      "\u001b[0;31mTypeError\u001b[0m: DecRateCharge.forward() takes 3 positional arguments but 4 were given"
     ]
    }
   ],
   "source": [
    "optimized_circuits = []\n",
    "optim_records = []\n",
    "\n",
    "for i in range(10):\n",
    "    circuit = sampler.sample_circuit_code('JJ')\n",
    "    final_circuits, params, optim_results = qd.optimization.run_BFGS(\n",
    "        circuit = circuit,\n",
    "        loss_metric_function  = my_loss_function,\n",
    "        max_iter = 30,\n",
    "        total_trunc_num = 50,\n",
    "        bounds = sampler.bounds,\n",
    "    )\n",
    "    optimized_circuits.append[final_circuits]\n",
    "    optim_records.append(optim_results)"
   ]
  },
  {
   "cell_type": "code",
   "execution_count": 5,
   "metadata": {},
   "outputs": [],
   "source": [
    "cr = sampler.sample_circuit_code('JJ')"
   ]
  },
  {
   "cell_type": "code",
   "execution_count": 8,
   "metadata": {},
   "outputs": [
    {
     "name": "stdout",
     "output_type": "stream",
     "text": [
      "set_trunc_nums called\n",
      "diag called\n"
     ]
    },
    {
     "ename": "TypeError",
     "evalue": "DecRateCharge.forward() takes 3 positional arguments but 4 were given",
     "output_type": "error",
     "traceback": [
      "\u001b[0;31m---------------------------------------------------------------------------\u001b[0m",
      "\u001b[0;31mTypeError\u001b[0m                                 Traceback (most recent call last)",
      "Cell \u001b[0;32mIn[8], line 3\u001b[0m\n\u001b[1;32m      1\u001b[0m cr\u001b[38;5;241m.\u001b[39mset_trunc_nums([\u001b[38;5;241m120\u001b[39m,])\n\u001b[1;32m      2\u001b[0m cr\u001b[38;5;241m.\u001b[39mdiag(\u001b[38;5;241m10\u001b[39m)\n\u001b[0;32m----> 3\u001b[0m \u001b[43mcr\u001b[49m\u001b[38;5;241;43m.\u001b[39;49m\u001b[43mdec_rate\u001b[49m\u001b[43m(\u001b[49m\u001b[38;5;124;43m'\u001b[39;49m\u001b[38;5;124;43mcharge\u001b[39;49m\u001b[38;5;124;43m'\u001b[39;49m\u001b[43m,\u001b[49m\u001b[43m \u001b[49m\u001b[43m(\u001b[49m\u001b[38;5;241;43m0\u001b[39;49m\u001b[43m,\u001b[49m\u001b[43m \u001b[49m\u001b[38;5;241;43m1\u001b[39;49m\u001b[43m)\u001b[49m\u001b[43m)\u001b[49m\n",
      "File \u001b[0;32m~/Desktop/School/lab/SQcircuit/SQcircuit/circuit.py:2376\u001b[0m, in \u001b[0;36mCircuit.dec_rate\u001b[0;34m(self, dec_type, states, total)\u001b[0m\n\u001b[1;32m   2374\u001b[0m \u001b[38;5;28;01melif\u001b[39;00m dec_type \u001b[38;5;241m==\u001b[39m \u001b[38;5;124m\"\u001b[39m\u001b[38;5;124mcharge\u001b[39m\u001b[38;5;124m\"\u001b[39m:\n\u001b[1;32m   2375\u001b[0m     \u001b[38;5;28;01mif\u001b[39;00m get_optim_mode():\n\u001b[0;32m-> 2376\u001b[0m         decay \u001b[38;5;241m=\u001b[39m decay \u001b[38;5;241m+\u001b[39m \u001b[43msqtorch\u001b[49m\u001b[38;5;241;43m.\u001b[39;49m\u001b[43mdec_rate_charge_torch\u001b[49m\u001b[43m(\u001b[49m\u001b[38;5;28;43mself\u001b[39;49m\u001b[43m,\u001b[49m\u001b[43m \u001b[49m\u001b[43mstates\u001b[49m\u001b[43m)\u001b[49m\n\u001b[1;32m   2377\u001b[0m     \u001b[38;5;28;01melse\u001b[39;00m:\n\u001b[1;32m   2378\u001b[0m         decay \u001b[38;5;241m=\u001b[39m decay \u001b[38;5;241m+\u001b[39m \u001b[38;5;28mself\u001b[39m\u001b[38;5;241m.\u001b[39m_dec_rate_charge_np(states)\n",
      "File \u001b[0;32m~/Desktop/School/lab/SQcircuit/SQcircuit/torch_extensions.py:101\u001b[0m, in \u001b[0;36mdec_rate_charge_torch\u001b[0;34m(circuit, states)\u001b[0m\n\u001b[1;32m     83\u001b[0m \u001b[38;5;28;01mdef\u001b[39;00m \u001b[38;5;21mdec_rate_charge_torch\u001b[39m(\n\u001b[1;32m     84\u001b[0m         circuit: \u001b[38;5;124m'\u001b[39m\u001b[38;5;124mCircuit\u001b[39m\u001b[38;5;124m'\u001b[39m,\n\u001b[1;32m     85\u001b[0m         states: Tuple[\u001b[38;5;28mint\u001b[39m, \u001b[38;5;28mint\u001b[39m]\n\u001b[1;32m     86\u001b[0m ) \u001b[38;5;241m-\u001b[39m\u001b[38;5;241m>\u001b[39m Tensor:\n\u001b[1;32m     87\u001b[0m \u001b[38;5;250m    \u001b[39m\u001b[38;5;124;03m\"\"\"Given a circuit, computes charge dephasing rate using the\u001b[39;00m\n\u001b[1;32m     88\u001b[0m \u001b[38;5;124;03m    ``DecRateCharge`` class.\u001b[39;00m\n\u001b[1;32m     89\u001b[0m \n\u001b[0;32m   (...)\u001b[0m\n\u001b[1;32m     99\u001b[0m \u001b[38;5;124;03m        The charge dephasing rate of ``circuit`` between ``states``.\u001b[39;00m\n\u001b[1;32m    100\u001b[0m \u001b[38;5;124;03m    \"\"\"\u001b[39;00m\n\u001b[0;32m--> 101\u001b[0m     \u001b[38;5;28;01mreturn\u001b[39;00m \u001b[43mDecRateCharge\u001b[49m\u001b[38;5;241;43m.\u001b[39;49m\u001b[43mapply\u001b[49m\u001b[43m(\u001b[49m\n\u001b[1;32m    102\u001b[0m \u001b[43m        \u001b[49m\u001b[43mtorch\u001b[49m\u001b[38;5;241;43m.\u001b[39;49m\u001b[43mstack\u001b[49m\u001b[43m(\u001b[49m\u001b[43mcircuit\u001b[49m\u001b[38;5;241;43m.\u001b[39;49m\u001b[43mparameters\u001b[49m\u001b[43m)\u001b[49m\u001b[43m \u001b[49m\u001b[38;5;28;43;01mif\u001b[39;49;00m\u001b[43m \u001b[49m\u001b[43mcircuit\u001b[49m\u001b[38;5;241;43m.\u001b[39;49m\u001b[43mparameters\u001b[49m\u001b[43m \u001b[49m\u001b[38;5;28;43;01melse\u001b[39;49;00m\u001b[43m \u001b[49m\u001b[43mtorch\u001b[49m\u001b[38;5;241;43m.\u001b[39;49m\u001b[43mtensor\u001b[49m\u001b[43m(\u001b[49m\u001b[43m[\u001b[49m\u001b[43m]\u001b[49m\u001b[43m)\u001b[49m\u001b[43m,\u001b[49m\n\u001b[1;32m    103\u001b[0m \u001b[43m        \u001b[49m\u001b[43mcircuit\u001b[49m\u001b[43m,\u001b[49m\n\u001b[1;32m    104\u001b[0m \u001b[43m        \u001b[49m\u001b[43mstates\u001b[49m\n\u001b[1;32m    105\u001b[0m \u001b[43m    \u001b[49m\u001b[43m)\u001b[49m\n",
      "\u001b[0;31mTypeError\u001b[0m: DecRateCharge.forward() takes 3 positional arguments but 4 were given"
     ]
    }
   ],
   "source": [
    "cr.set_trunc_nums([120,])\n",
    "cr.diag(10)\n",
    "cr.dec_rate('charge', (0, 1))"
   ]
  },
  {
   "cell_type": "code",
   "execution_count": 6,
   "metadata": {},
   "outputs": [
    {
     "data": {
      "text/plain": [
       "'1.12.0'"
      ]
     },
     "execution_count": 6,
     "metadata": {},
     "output_type": "execute_result"
    }
   ],
   "source": [
    "import torch\n",
    "torch.__version__"
   ]
  },
  {
   "cell_type": "markdown",
   "metadata": {},
   "source": [
    "If"
   ]
  }
 ],
 "metadata": {
  "kernelspec": {
   "display_name": "base",
   "language": "python",
   "name": "python3"
  },
  "language_info": {
   "codemirror_mode": {
    "name": "ipython",
    "version": 3
   },
   "file_extension": ".py",
   "mimetype": "text/x-python",
   "name": "python",
   "nbconvert_exporter": "python",
   "pygments_lexer": "ipython3",
   "version": "3.10.8"
  }
 },
 "nbformat": 4,
 "nbformat_minor": 2
}
