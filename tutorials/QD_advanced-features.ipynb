{
 "cells": [
  {
   "cell_type": "markdown",
   "metadata": {},
   "source": [
    "# `qubit_discovery` Advanced Features"
   ]
  },
  {
   "cell_type": "code",
   "execution_count": 1,
   "metadata": {},
   "outputs": [],
   "source": [
    "import qubit_discovery as qd\n",
    "import torch"
   ]
  },
  {
   "cell_type": "markdown",
   "metadata": {},
   "source": [
    "## Constructing custom metrics\n",
    "\n",
    "While `qubit_discovery` offers a range of pre-made metrics to construct functions with, it's easy to create new ones for custom targets you have in mind. \n",
    "\n",
    "All loss functions in `qubit_discovery` have the signature\n",
    "```\n",
    "    def my_loss_function(circuit) -> Tuple(torch.Tensor, torch.Tensor)\n",
    "```\n",
    "They take in a single parameter (the circuit) and return a tuple of `(loss, metric)`. The `metric` is the target you want to track. The `loss` is a function of the metric which should be minimized, and can be linearly added to the overall loss function.\n",
    "\n",
    "For instance, to optimize for a qubit with a particular operating frequency $\\omega_{01}^*$, the metric you want to track is the current qubit frequency $\\omega_{01}$ whereas the loss should be something like $\\mathcal{L}_\\text{freq} = |\\omega_{01} - \\omega_{01}^*|/\\omega_{01}$."
   ]
  },
  {
   "cell_type": "code",
   "execution_count": 2,
   "metadata": {},
   "outputs": [],
   "source": [
    "def target_qubit_frequency_loss(circuit):\n",
    "    TARGET_FREQ = 1.7   # GHz\n",
    "    qubit_frequency = circuit.efreqs[1] - circuit.efreqs[0]\n",
    "    loss = torch.abs(qubit_frequency - TARGET_FREQ)/TARGET_FREQ\n",
    "\n",
    "    return loss, qubit_frequency"
   ]
  },
  {
   "cell_type": "markdown",
   "metadata": {},
   "source": [
    "Then, we add it to the list of metrics that can be used to construct loss functions:"
   ]
  },
  {
   "cell_type": "code",
   "execution_count": 3,
   "metadata": {},
   "outputs": [],
   "source": [
    "qd.losses.add_to_metrics('target_frequency', target_qubit_frequency_loss)"
   ]
  },
  {
   "cell_type": "markdown",
   "metadata": {},
   "source": [
    "During optimization, you can now use it with the `'target_frequency'` name:\n",
    "```\n",
    "calculate_loss_metrics(\n",
    "    circuit,\n",
    "    use_losses = ['target_frequency', ...],\n",
    "    use_metrics = [...]\n",
    ")\n",
    "```"
   ]
  },
  {
   "cell_type": "markdown",
   "metadata": {},
   "source": [
    "It's easy to make other loss functions. For instance, if you have a particular spectrum you wish to achieve, just modify the above function slightly.\n",
    "\n",
    "For the metric, we track the qubit frequency $f_{01}$. (The metric value is simply provided as a convenient way to track data during the optimization procedure, and does not need to be used.)"
   ]
  },
  {
   "cell_type": "code",
   "execution_count": 4,
   "metadata": {},
   "outputs": [],
   "source": [
    "def target_spectrum_loss(circuit):\n",
    "    TARGET_SPECTRUM = torch.tensor([0.014, 2.974, 0.194])\n",
    "\n",
    "    circuit_spectrum = circuit.efreqs[1:4] - circuit.efreqs[0]\n",
    "    loss = torch.mean(torch.abs(TARGET_SPECTRUM - circuit_spectrum)/TARGET_SPECTRUM[0])\n",
    "\n",
    "    return loss, circuit_spectrum[0]"
   ]
  },
  {
   "cell_type": "markdown",
   "metadata": {},
   "source": [
    "If you care about the circuit's spectrum at different operating points, that's also easy to do:"
   ]
  },
  {
   "cell_type": "code",
   "execution_count": 5,
   "metadata": {},
   "outputs": [],
   "source": [
    "def frequency_external_flux_loss(circuit):\n",
    "    EXTERNAL_FLUXES = [0, 0.5]\n",
    "    TARGET_FREQS = torch.tensor([4.5, 2.0])\n",
    "\n",
    "    # Because we're changing the operating point, that could interfere with\n",
    "    # other loss functions. Any loss function should always reset the circuit\n",
    "    operating_point = circuit.loops[0].value()\n",
    "\n",
    "    # Calculate qubit frequency at other flux points\n",
    "    circuit_freqs = []\n",
    "    for phi_ext in EXTERNAL_FLUXES:\n",
    "        circuit.loops[0].set_flux(phi_ext)\n",
    "        circuit.diag(2)\n",
    "        circuit_freqs.append(circuit.efreqs[1] - circuit.efreqs[0])\n",
    "\n",
    "    # Reset the circuit\n",
    "    circuit.loops[0].set_flux(operating_point / 2 / np.pi)\n",
    "    \n",
    "    loss = torch.mean(torch.abs(TARGET_FREQS - circuit_freqs)/TARGET_FREQS[0])\n",
    "    \n",
    "    return loss, circuit_freqs[0]"
   ]
  },
  {
   "cell_type": "markdown",
   "metadata": {},
   "source": [
    "Besides functions of the spectrum, SQcircuit also provides differentiable eigenvectors, decoherence and dephasing rates, coupling operators, and matrix elements. These can all be used to construct loss functions.\n",
    "\n",
    "TODO: good examples of other loss functions?"
   ]
  },
  {
   "cell_type": "markdown",
   "metadata": {},
   "source": []
  },
  {
   "cell_type": "markdown",
   "metadata": {},
   "source": [
    "## More on truncation"
   ]
  },
  {
   "cell_type": "markdown",
   "metadata": {},
   "source": [
    "## Using different optimizers"
   ]
  },
  {
   "cell_type": "markdown",
   "metadata": {},
   "source": []
  },
  {
   "cell_type": "markdown",
   "metadata": {},
   "source": [
    "## Verbose output"
   ]
  },
  {
   "cell_type": "markdown",
   "metadata": {},
   "source": []
  }
 ],
 "metadata": {
  "kernelspec": {
   "display_name": "base",
   "language": "python",
   "name": "python3"
  },
  "language_info": {
   "codemirror_mode": {
    "name": "ipython",
    "version": 3
   },
   "file_extension": ".py",
   "mimetype": "text/x-python",
   "name": "python",
   "nbconvert_exporter": "python",
   "pygments_lexer": "ipython3",
   "version": "3.12.2"
  }
 },
 "nbformat": 4,
 "nbformat_minor": 2
}
