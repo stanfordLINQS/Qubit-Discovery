{
 "cells": [
  {
   "cell_type": "markdown",
   "metadata": {},
   "source": [
    "# `qubit_discovery` Advanced Features"
   ]
  },
  {
   "cell_type": "code",
   "execution_count": 1,
   "metadata": {},
   "outputs": [],
   "source": [
    "import qubit_discovery as qd\n",
    "import SQcircuit as sq\n",
    "import torch"
   ]
  },
  {
   "cell_type": "code",
   "execution_count": 2,
   "metadata": {},
   "outputs": [],
   "source": [
    "# Make sure to switch to PyTorch!\n",
    "sq.set_engine('PyTorch')\n",
    "\n",
    "# Set up a circuit sampler to use throughout\n",
    "from qubit_discovery.optimization import CircuitSampler\n",
    "sampler = CircuitSampler(\n",
    "    capacitor_range=[1e-15, 12e-12],    # in F\n",
    "    inductor_range=[1e-15, 5e-6],       # in H\n",
    "    junction_range=[1e9, 100e9],        # in Hz\n",
    "    flux_range=[0, 0.5]                   # in units of Phi_0        \n",
    ")"
   ]
  },
  {
   "cell_type": "markdown",
   "metadata": {},
   "source": [
    "## Constructing custom metrics\n",
    "\n",
    "While `qubit_discovery` offers a range of pre-made metrics to construct functions with, it's easy to create new ones for custom targets you have in mind. \n",
    "\n",
    "All loss functions in `qubit_discovery` have the signature\n",
    "```\n",
    "    def my_loss_function(circuit) -> Tuple(torch.Tensor, torch.Tensor)\n",
    "```\n",
    "They take in a single parameter (the circuit) and return a tuple of `(loss, metric)`. The `metric` is the target you want to track. The `loss` is a function of the metric which should be minimized, and can be linearly added to the overall loss function.\n",
    "\n",
    "For instance, to optimize for a qubit with a particular operating frequency $\\omega_{01}^*$, the metric you want to track is the current qubit frequency $\\omega_{01}$ whereas the loss should be something like $\\mathcal{L}_\\text{freq} = |\\omega_{01} - \\omega_{01}^*|/\\omega_{01}$. (It's usually good for the loss to be unitless, especially if you're optimizing for multiple different metrics.)"
   ]
  },
  {
   "cell_type": "code",
   "execution_count": 25,
   "metadata": {},
   "outputs": [],
   "source": [
    "def target_qubit_frequency_loss(circuit):\n",
    "    TARGET_FREQ = 1.7 # GHz\n",
    "    \n",
    "    qubit_frequency = circuit.efreqs[1] - circuit.efreqs[0]\n",
    "    loss = torch.abs(qubit_frequency - TARGET_FREQ)/TARGET_FREQ\n",
    "\n",
    "    return loss, qubit_frequency"
   ]
  },
  {
   "cell_type": "markdown",
   "metadata": {},
   "source": [
    "Then, we add it to the list of metrics that can be used to construct loss functions:"
   ]
  },
  {
   "cell_type": "code",
   "execution_count": 26,
   "metadata": {},
   "outputs": [],
   "source": [
    "qd.losses.add_to_metrics('target_frequency', target_qubit_frequency_loss)"
   ]
  },
  {
   "cell_type": "markdown",
   "metadata": {},
   "source": [
    "And after that, you can build your loss function as usual, referencing the custom metric we made with the `'target_frequency'` name. For instance,"
   ]
  },
  {
   "cell_type": "code",
   "execution_count": 27,
   "metadata": {},
   "outputs": [],
   "source": [
    "my_loss_function = qd.losses.build_loss_function(\n",
    "    use_losses = {'t2': 1.0, 'target_frequency': 1.0},\n",
    "    use_metrics=[]\n",
    ")"
   ]
  },
  {
   "cell_type": "markdown",
   "metadata": {},
   "source": [
    "And optimize!"
   ]
  },
  {
   "cell_type": "code",
   "execution_count": 39,
   "metadata": {},
   "outputs": [
    {
     "name": "stdout",
     "output_type": "stream",
     "text": [
      "Initial qubit frequency: tensor(68.3117, dtype=torch.float64, grad_fn=<SubBackward0>)\n"
     ]
    },
    {
     "name": "stderr",
     "output_type": "stream",
     "text": [
      "Iteration 3:  60%|██████    | 3/5 [00:05<00:03,  1.98s/it, loss=-1.848e-05]"
     ]
    },
    {
     "name": "stdout",
     "output_type": "stream",
     "text": [
      "Final qubit frequency: tensor(1.7000, dtype=torch.float64, grad_fn=<SubBackward0>)\n"
     ]
    },
    {
     "name": "stderr",
     "output_type": "stream",
     "text": [
      "\n"
     ]
    }
   ],
   "source": [
    "initial_cr = sampler.sample_circuit_code('JJ')\n",
    "initial_cr.truncate_circuit(120)\n",
    "initial_cr.diag(10)\n",
    "print('Initial qubit frequency:', initial_cr.efreqs[1] - initial_cr.efreqs[0])\n",
    "\n",
    "optimized_cr, _, _ = qd.optimization.run_BFGS(\n",
    "    circuit=sampler.sample_circuit_code('JJ'),                         \n",
    "    loss_metric_function=my_loss_function,\n",
    "    max_iter=5, # We're using a simple loss function, so doesn't need many steps\n",
    "    total_trunc_num=120,\n",
    "    bounds=sampler.bounds\n",
    ")\n",
    "\n",
    "optimized_cr.diag(10)\n",
    "print('Final qubit frequency:', optimized_cr.efreqs[1] - optimized_cr.efreqs[0])"
   ]
  },
  {
   "cell_type": "markdown",
   "metadata": {},
   "source": [
    "---"
   ]
  },
  {
   "cell_type": "markdown",
   "metadata": {},
   "source": [
    "It's easy to make more complicated metrics too. For instance, you might not care about a specific qubit frequency, but just keeping it within a range like $\\omega_{10} \\in [0.5, 3]$ GHz."
   ]
  },
  {
   "cell_type": "code",
   "execution_count": 28,
   "metadata": {},
   "outputs": [],
   "source": [
    "def frequency_in_range_loss(circuit):\n",
    "    MIN_FREQ = 0.5\n",
    "    MAX_FREQ = 3\n",
    "\n",
    "    qubit_frequency = circuit.efreqs[1] - circuit.efreqs[0]\n",
    "\n",
    "    if qubit_frequency < MIN_FREQ:\n",
    "        loss = ((qubit_frequency - MIN_FREQ)/MIN_FREQ)**2\n",
    "    elif qubit_frequency > MAX_FREQ:\n",
    "        loss = ((MAX_FREQ - qubit_frequency)/MAX_FREQ)**2\n",
    "    else:\n",
    "        # Minor point: for gradient computation, show that the loss doesn't depend on qubit frequency (instead of just returning 0)\n",
    "        loss = 0 * qubit_frequency\n",
    "    \n",
    "    return loss, qubit_frequency\n",
    "\n",
    "qd.losses.add_to_metrics('frequency_range', frequency_in_range_loss)"
   ]
  },
  {
   "cell_type": "markdown",
   "metadata": {},
   "source": [
    "Or instead of a specific frequency, if you have a particular spectrum you wish to achieve, just modify the first function slightly.\n",
    "\n",
    "For the metric, we'll track the qubit frequency $f_{01}$. (The metric value is simply provided as a convenient way to track data during the optimization procedure, and does not need to be used.)"
   ]
  },
  {
   "cell_type": "code",
   "execution_count": 29,
   "metadata": {},
   "outputs": [],
   "source": [
    "def target_spectrum_loss(circuit):\n",
    "    TARGET_SPECTRUM = torch.tensor([0.014, 2.974, 0.194])\n",
    "\n",
    "    circuit_spectrum = circuit.efreqs[1:4] - circuit.efreqs[0]\n",
    "    loss = torch.mean(torch.abs(TARGET_SPECTRUM - circuit_spectrum)/TARGET_SPECTRUM[0])\n",
    "\n",
    "    return loss, circuit_spectrum[0]"
   ]
  },
  {
   "cell_type": "markdown",
   "metadata": {},
   "source": [
    "If you care about the circuit's spectrum at different operating points, that's also easy to do:"
   ]
  },
  {
   "cell_type": "code",
   "execution_count": 41,
   "metadata": {},
   "outputs": [],
   "source": [
    "def frequency_external_flux_loss(circuit):\n",
    "    EXTERNAL_FLUXES = [0, 0.5]\n",
    "    TARGET_FREQS = torch.tensor([4.5, 2.0])\n",
    "\n",
    "    # Because we're changing the operating point, that could interfere with\n",
    "    # other loss functions. Any loss function should always reset the circuit\n",
    "    operating_point = circuit.loops[0].value()\n",
    "\n",
    "    # Calculate qubit frequency at other flux points\n",
    "    circuit_freqs = []\n",
    "    for phi_ext in EXTERNAL_FLUXES:\n",
    "        circuit.loops[0].set_flux(phi_ext)\n",
    "        circuit.diag(2)\n",
    "        circuit_freqs.append(circuit.efreqs[1] - circuit.efreqs[0])\n",
    "    circuit_freqs = torch.stack(circuit_freqs)\n",
    "\n",
    "    # Reset the circuit\n",
    "    circuit.loops[0].set_flux(operating_point / 2 / torch.pi)\n",
    "    \n",
    "    loss = torch.mean(torch.abs(TARGET_FREQS - circuit_freqs)/TARGET_FREQS[0])\n",
    "    \n",
    "    return loss, circuit_freqs[0]"
   ]
  },
  {
   "cell_type": "markdown",
   "metadata": {},
   "source": [
    "Besides functions of the spectrum, SQcircuit also provides differentiable eigenvectors, decoherence and dephasing rates, coupling operators, and matrix elements. These can _**all**_ be used to construct loss functions!"
   ]
  },
  {
   "cell_type": "code",
   "execution_count": 31,
   "metadata": {},
   "outputs": [],
   "source": [
    "def cavity_coupling_loss(circuit):\n",
    "    gate_capacitor = sq.Capacitor(1, 'fF')\n",
    "\n",
    "    C = circuit.elements[(0, 1)][2] # This relies on you knowing how the circuit is laid out. This is correct for 'JJ' \n",
    "    g_10 = (\n",
    "        (gate_capacitor.get_value('fF') / C.get_value('fF')) \n",
    "        * torch.abs(circuit.evecs[1].conj()\n",
    "                    @ circuit.charge_op(1)\n",
    "                    @ circuit.evecs[0])\n",
    "    )\n",
    "\n",
    "    return -g_10, g_10\n",
    "\n",
    "qd.losses.add_to_metrics('coupling', cavity_coupling_loss)\n"
   ]
  },
  {
   "cell_type": "code",
   "execution_count": 32,
   "metadata": {},
   "outputs": [],
   "source": [
    "def cap_quasi_t1_loss(circuit):\n",
    "    \"\"\"Focus on just the capacitive and quasiparticle decoherence channels.\n",
    "    \"\"\"\n",
    "    dec_rate_cap = circuit.dec_rate('capacitive', (0, 1))\n",
    "    dec_rate_quasi = circuit.dec_rate('quasiparticle', (0, 1))\n",
    "\n",
    "    dec_rate_total = dec_rate_cap + dec_rate_quasi\n",
    "    dec_time = 1 / dec_rate_total\n",
    "\n",
    "    return dec_rate_total, dec_time  # Want to minimize the dec rate, so return that as loss. This is not normalized though\n",
    "\n",
    "qd.losses.add_to_metrics('t1_cap_quasi', cap_quasi_t1_loss)"
   ]
  },
  {
   "cell_type": "markdown",
   "metadata": {},
   "source": [
    "## Choosing elements to optimize"
   ]
  },
  {
   "cell_type": "markdown",
   "metadata": {},
   "source": [
    "Suppose you have a symmetric flux-tunable transmon with $E_{J_1} = E_{J_2}$ fixed at 10 GHz, and you're forced to have $\\phi_\\text{ext} = \\Phi_0/2$, but are free to alter the capacitance. How do you optimize that keeping these fixed?\n",
    "\n",
    "One option is to make a sampler where the fixed values are hard-coded in the bounds. In order to _keep_ the elements at these values during optimization, we should **not** optimize over those values. This is indicated using the `elems_not_to_optimize` parameter of the sampler."
   ]
  },
  {
   "cell_type": "code",
   "execution_count": 10,
   "metadata": {},
   "outputs": [],
   "source": [
    "sampler2 = CircuitSampler(\n",
    "    capacitor_range=[1e-15, 12e-12],    # in F\n",
    "    inductor_range=[1e-15, 5e-6] ,      # doesn't matter in this case\n",
    "    junction_range=[10e9, 10e9],        # no freedom!\n",
    "    # junction_range=[9.8e9, 10.2e9]    # or maybe there's some variation?\n",
    "    flux_range=[0.5, 0.5],\n",
    "    elems_not_to_optimize=[sq.Junction, sq.Loop]\n",
    ")\n",
    "\n",
    "cr = sampler2.sample_circuit_code('JJ')"
   ]
  },
  {
   "cell_type": "markdown",
   "metadata": {},
   "source": [
    "This is also easy enough to do by hand, if desired.\n",
    "\n",
    "When constructing a circuit to optimize by hand, use the `requires_grad` parameter for the elements to choose if you want to optimize that element (`True`) or not (`False`)."
   ]
  },
  {
   "cell_type": "code",
   "execution_count": 13,
   "metadata": {},
   "outputs": [],
   "source": [
    "loop = sq.Loop(0.5, requires_grad=False)                        # do not optimize!\n",
    "JJ1 = sq.Junction(10, 'GHz', loops=[loop], requires_grad=False) # do not optimize!\n",
    "JJ2 = sq.Junction(10, 'GHz', loops=[loop], requires_grad=False) # do not optimize!\n",
    "\n",
    "# For the element to optimize, either start at reasonable value, or generate randomly\n",
    "C = sq.Capacitor(10, 'fF', requires_grad=True)                  # DO optimize!\n",
    "\n",
    "cr = sq.Circuit(\n",
    "    {(0, 1): [JJ1, JJ2, C]}\n",
    ")"
   ]
  },
  {
   "cell_type": "markdown",
   "metadata": {},
   "source": [
    "This circuit can be optimized just like any other, though you'll need to supply the bounds by hand (rather than taking from the sampler)."
   ]
  },
  {
   "cell_type": "code",
   "execution_count": 21,
   "metadata": {},
   "outputs": [
    {
     "name": "stderr",
     "output_type": "stream",
     "text": [
      "Iteration 1:  20%|██        | 1/5 [00:01<00:07,  1.89s/it, loss=3.558e+00]\n"
     ]
    }
   ],
   "source": [
    "_ = qd.optimization.run_BFGS(\n",
    "    circuit = cr,\n",
    "    loss_metric_function=my_loss_function,\n",
    "    max_iter=5,\n",
    "    total_trunc_num=120,\n",
    "    bounds={sq.Capacitor: torch.tensor([1e-15, 1e-14])} # You must give bounds for all the element types you're optimizing over\n",
    ")"
   ]
  },
  {
   "cell_type": "markdown",
   "metadata": {},
   "source": [
    "Constructing circuits by hand like this also provide more fine-grained control over which elements to optimize (e.g., if you want to optimize some junctions, but not others)."
   ]
  },
  {
   "cell_type": "markdown",
   "metadata": {},
   "source": [
    "## Using different optimizers"
   ]
  },
  {
   "cell_type": "code",
   "execution_count": 3,
   "metadata": {},
   "outputs": [],
   "source": [
    "# Make a very simple loss function for below examples.\n",
    "my_loss_function = qd.losses.build_loss_function(\n",
    "    use_losses = {'number_of_gates': 1.0},\n",
    "    use_metrics = []\n",
    ")"
   ]
  },
  {
   "cell_type": "markdown",
   "metadata": {},
   "source": [
    "The hyperparameters for gradient descent and BFGS have been sensibly chosen, but you may want to change them for your particular problem. It's as easy as passing in a `optimizer_kwargs` dict to `run_[SGD/BFGS]()`.\n",
    "\n",
    "These keywords go directly to initializing the [`torch.optim.SGD`](https://pytorch.org/docs/stable/generated/torch.optim.SGD.html) or [`torch.optim.LBFGS`](https://pytorch.org/docs/stable/generated/torch.optim.LBFGS.html) optimizer."
   ]
  },
  {
   "cell_type": "code",
   "execution_count": 12,
   "metadata": {},
   "outputs": [
    {
     "name": "stderr",
     "output_type": "stream",
     "text": [
      "Iteration 49: 100%|██████████| 50/50 [00:28<00:00,  1.74it/s, loss=4.587e-03]\n"
     ]
    }
   ],
   "source": [
    "cr = sampler.sample_circuit_code('JL')\n",
    "_ = qd.optimization.run_SGD(\n",
    "    circuit=cr,                          \n",
    "    loss_metric_function=my_loss_function,\n",
    "    max_iter=50,\n",
    "    total_trunc_num=300,\n",
    "    bounds=sampler.bounds,\n",
    "    optimizer_kwargs={ # These hyperparamters are illustrative, and may not work well\n",
    "        'lr': 1e-2,\n",
    "        'nesterov': True,\n",
    "        'momentum': 0.1\n",
    "    }\n",
    ")"
   ]
  },
  {
   "cell_type": "code",
   "execution_count": 47,
   "metadata": {},
   "outputs": [
    {
     "name": "stderr",
     "output_type": "stream",
     "text": [
      "Iteration 20:  40%|████      | 20/50 [01:50<02:46,  5.54s/it, loss=1.564e-06]\n"
     ]
    }
   ],
   "source": [
    "cr = sampler.sample_circuit_code('JL')\n",
    "_ = qd.optimization.run_BFGS(\n",
    "    circuit=cr,                          \n",
    "    loss_metric_function=my_loss_function,\n",
    "    max_iter=50,\n",
    "    total_trunc_num=300,\n",
    "    bounds=sampler.bounds,\n",
    "    optimizer_kwargs={ # These hyperparamters are illustrative, and may not work well\n",
    "        'lr': 2,\n",
    "        'tolerance_change': 1e-8\n",
    "    }\n",
    ")"
   ]
  },
  {
   "cell_type": "markdown",
   "metadata": {},
   "source": [
    "Additionally, `qubit_discovery` supports other PyTorch optimizers. Using `qd.optimization.run_optimization`, you can pass in in a PyTorch [Optimizer](https://pytorch.org/docs/stable/optim.html#torch.optim.Optimizer) as well as a set of keyword arguments to initialize it.\n",
    "\n",
    "Below we'll try out Adam, a popular algorithm for neural networks."
   ]
  },
  {
   "cell_type": "code",
   "execution_count": 21,
   "metadata": {},
   "outputs": [
    {
     "name": "stderr",
     "output_type": "stream",
     "text": [
      "Iteration 49: 100%|██████████| 50/50 [00:28<00:00,  1.77it/s, loss=9.482e+00]\n"
     ]
    }
   ],
   "source": [
    "cr = sampler.sample_circuit_code('JL')\n",
    "_ = qd.optimization.run_optimization( \n",
    "## Same as run_[BFGS/SGD]\n",
    "    circuit=cr,                          \n",
    "    loss_metric_function=my_loss_function,\n",
    "    max_iter=50,\n",
    "    total_trunc_num=300,\n",
    "    bounds=sampler.bounds,\n",
    "## Parameters to set up the optimizer\n",
    "    optimizer=torch.optim.Adam,                 # The PyTorch optimizer you wish to use\n",
    "    optimizer_kwargs={                          # Defaults parameters you want to change when initializing the optimizer\n",
    "        'lr':  1e-2,\n",
    "        'betas': (0.8, 0.9)\n",
    "    },\n",
    "    uses_closure=False                          # Whether the requires a closure (e.g. LBFGS, conjugate gradient, …) or not\n",
    "                                                # (e.g. most first-order methods).\n",
    ")"
   ]
  },
  {
   "cell_type": "markdown",
   "metadata": {},
   "source": [
    "## A bit more on truncation"
   ]
  },
  {
   "cell_type": "markdown",
   "metadata": {},
   "source": [
    "Recall that `qubit_discovery.optimization.assign_trunc_nums` assigns truncation numbers to a (already diagonalized circuits) by estimating which modes participate most in the low energy states.\n",
    "\n",
    "If you just want to get these estimated truncation numbers (but not necessarily set the circuit to them), use `trunc_num_heuristic`. (This only works for a circuit with at least 2 modes.)"
   ]
  },
  {
   "cell_type": "code",
   "execution_count": 25,
   "metadata": {},
   "outputs": [
    {
     "data": {
      "text/latex": [
       "$\\displaystyle \\hat{H} = \\omega_{1} \\hat{a}^\\dagger_{1} \\hat{a}_{1} + \\omega_{2} \\hat{a}^\\dagger_{2} \\hat{a}_{2} + E_{J_{1}} \\cos{\\left(- \\hat{\\varphi}_{1} + \\hat{\\varphi}_{2} + \\varphi_{\\text{ext}_{1}} \\right)}$"
      ],
      "text/plain": [
       "<IPython.core.display.Math object>"
      ]
     },
     "metadata": {},
     "output_type": "display_data"
    },
    {
     "data": {
      "text/latex": [
       "$\\displaystyle ------------------------------------------------------------$"
      ],
      "text/plain": [
       "<IPython.core.display.Math object>"
      ]
     },
     "metadata": {},
     "output_type": "display_data"
    },
    {
     "data": {
      "text/latex": [
       "$\\displaystyle \\text{mode 1:}~~~~~~~~~~~\\text{harmonic}~~~~~~~~~~~\\hat{\\varphi}_{1} = \\varphi_{\\text{zp}_{1}} \\left(\\hat{a}_{1} + \\hat{a}^\\dagger_{1}\\right)~~~~~~~~~~~\\omega_{1} / 2 \\pi = 313.37924~~~~~~~~~~~\\varphi_{\\text{zp}_{1}} = 0.09$"
      ],
      "text/plain": [
       "<IPython.core.display.Math object>"
      ]
     },
     "metadata": {},
     "output_type": "display_data"
    },
    {
     "data": {
      "text/latex": [
       "$\\displaystyle \\text{mode 2:}~~~~~~~~~~~\\text{harmonic}~~~~~~~~~~~\\hat{\\varphi}_{2} = \\varphi_{\\text{zp}_{2}} \\left(\\hat{a}_{2} + \\hat{a}^\\dagger_{2}\\right)~~~~~~~~~~~\\omega_{2} / 2 \\pi = 7.87933~~~~~~~~~~~\\varphi_{\\text{zp}_{2}} = 0.38$"
      ],
      "text/plain": [
       "<IPython.core.display.Math object>"
      ]
     },
     "metadata": {},
     "output_type": "display_data"
    },
    {
     "data": {
      "text/latex": [
       "$\\displaystyle $"
      ],
      "text/plain": [
       "<IPython.core.display.Math object>"
      ]
     },
     "metadata": {},
     "output_type": "display_data"
    },
    {
     "data": {
      "text/latex": [
       "$\\displaystyle ------------------------------------------------------------$"
      ],
      "text/plain": [
       "<IPython.core.display.Math object>"
      ]
     },
     "metadata": {},
     "output_type": "display_data"
    },
    {
     "data": {
      "text/latex": [
       "$\\displaystyle \\text{parameters:}~~~~~~~~~~~E_{J_{1}} = 56.0$"
      ],
      "text/plain": [
       "<IPython.core.display.Math object>"
      ]
     },
     "metadata": {},
     "output_type": "display_data"
    },
    {
     "data": {
      "text/latex": [
       "$\\displaystyle \\text{loops:}~~~~~~~~~~~\\varphi_{\\text{ext}_{1}} / 2 \\pi = 0.5$"
      ],
      "text/plain": [
       "<IPython.core.display.Math object>"
      ]
     },
     "metadata": {},
     "output_type": "display_data"
    }
   ],
   "source": [
    "# An example (randomly sampled) 'JLL' circuit\n",
    "\n",
    "loop = sq.Loop(0.5)\n",
    "cr = sq.Circuit(\n",
    "    {\n",
    "        (0, 1): [sq.Junction(56, 'GHz', loops=[loop]), sq.Capacitor(3e-15, 'F')],\n",
    "        (1, 2): [sq.Inductor(9.6e-12, 'H', loops=[loop]), sq.Capacitor(2.4e-14, 'F')],\n",
    "        (2, 0): [sq.Inductor(6e-09, 'H', loops=[loop]), sq.Capacitor(6.5e-14, 'F')]\n",
    "    },\n",
    "    flux_dist='junctions'\n",
    ")\n",
    "cr.description()"
   ]
  },
  {
   "cell_type": "code",
   "execution_count": 27,
   "metadata": {},
   "outputs": [
    {
     "data": {
      "text/plain": [
       "[5, 140]"
      ]
     },
     "execution_count": 27,
     "metadata": {},
     "output_type": "execute_result"
    }
   ],
   "source": [
    "# Must diagonalize a circuit first before estimating optimal truncation numbers\n",
    "K = 700\n",
    "cr.truncate_circuit(K)\n",
    "cr.diag(10)\n",
    "qd.optimization.trunc_num_heuristic(cr, K=K)"
   ]
  },
  {
   "cell_type": "markdown",
   "metadata": {},
   "source": [
    "For a \"JLL\" circuit as above, there are two harmonic modes. The Hamiltonian is expressed in the product basis $\\ket{i_1}\\otimes\\ket{j_2}$ where $\\ket{i_1}$ (resp. $\\ket{j_2}$) is a basis vector for the first (resp. second) mode. We can also express the eigenvectors in this basis\n",
    "\n",
    "$$ \\ket{1} = \\sum_{i, j}c_{ij}\\ket{i_1}\\ket{j_2} $$\n",
    "\n",
    "Part of the algorithm in to estimate the optimal truncation numbers is plotting the portion of the eigenvector in each mode,\n",
    "$$ [\\ket{1}_{[1]}]_\\ell := \\max_j c_{\\ell j},\\quad [\\ket{1}_{[2]}]_\\ell := \\max_i c_{i \\ell} $$\n",
    "(See the paper [TODO] for more explanation.)\n",
    "\n",
    "By passing in a set of axes to `trunc_num_heuristic`, you can get plots of $|\\ket{1}_{[1]}|$ and $|\\ket{1}_{[2]}$."
   ]
  },
  {
   "cell_type": "code",
   "execution_count": 28,
   "metadata": {},
   "outputs": [
    {
     "data": {
      "text/plain": [
       "[5, 140]"
      ]
     },
     "execution_count": 28,
     "metadata": {},
     "output_type": "execute_result"
    },
    {
     "data": {
      "image/png": "[encoded data removed]",
      "text/plain": [
       "<Figure size 640x480 with 2 Axes>"
      ]
     },
     "metadata": {},
     "output_type": "display_data"
    }
   ],
   "source": [
    "import matplotlib.pyplot as plt\n",
    "fig, axs = plt.subplots(2, 1) ## Number of axes should match the number of harmonic modes in the circuit\n",
    "qd.optimization.trunc_num_heuristic(cr, K=K, axes=axs)"
   ]
  },
  {
   "cell_type": "markdown",
   "metadata": {},
   "source": [
    "Here, the fast decay of the part of $\\ket{1}$ in the first mode, $|\\ket{1}_{[1]}|$, indicates the first mode participates less in $\\ket{1}$ (which matches the intuition that the characteristic frequency of the first mode is much higher than the second, as we saw in the circuit description above). Hence, the first mode is allocated a much lower truncation number (5 vs. 140)."
   ]
  },
  {
   "cell_type": "markdown",
   "metadata": {},
   "source": [
    "## Verbose output"
   ]
  },
  {
   "cell_type": "markdown",
   "metadata": {},
   "source": [
    "The progress bar is cute when running a notebook, but if you're using `run_BFGS`, etc. in a script you might want more information printed out during optimization.\n",
    "\n",
    "`qubit_discovery` uses Python's `logging` module to output details during optimization. If you know how to use the `logging` library, call `qubit_discovery.get_logger()` and add handlers to your heart's content.\n",
    "\n",
    "If you don't, we provide a convenience function which sets all this data to print out when generated."
   ]
  },
  {
   "cell_type": "code",
   "execution_count": 5,
   "metadata": {},
   "outputs": [
    {
     "data": {
      "text/plain": [
       "<Logger qubit_discovery (INFO)>"
      ]
     },
     "execution_count": 5,
     "metadata": {},
     "output_type": "execute_result"
    }
   ],
   "source": [
    "qd.log_to_stdout()"
   ]
  },
  {
   "cell_type": "code",
   "execution_count": 6,
   "metadata": {},
   "outputs": [
    {
     "name": "stderr",
     "output_type": "stream",
     "text": [
      "Iteration 0:   0%|          | 0/1 [00:00<?, ?it/s, loss=2.374e-03]"
     ]
    },
    {
     "name": "stdout",
     "output_type": "stream",
     "text": [
      "[2024-08-07 02:05:43] ------------------------------------------------------------------------------------------\n",
      "Optimization progress\n",
      "iteration: 0\n",
      "params: [0.58997997 0.89159062 1.3396255  2.8956784 ]\n",
      "circuit params: [array(5.7521048), array(2.66903995e+11), array(9.13242661e-10), array(1.15175671e-15)]\n",
      "loss: 0.002374254100354516\n",
      "[2024-08-07 02:05:43] \tnumber_of_gates_loss: 0.002374254100354516\n",
      "[2024-08-07 02:05:43] \ttotal_loss: 0.002374254100354516\n"
     ]
    },
    {
     "name": "stderr",
     "output_type": "stream",
     "text": [
      "Iteration 0: 100%|██████████| 1/1 [00:03<00:00,  3.45s/it, loss=2.374e-03]\n"
     ]
    }
   ],
   "source": [
    "# Perform one step to see the information which is printed now\n",
    "\n",
    "cr = sampler.sample_circuit_code('JL')\n",
    "_ = qd.optimization.run_BFGS(\n",
    "    circuit=cr,                          \n",
    "    loss_metric_function=my_loss_function,\n",
    "    max_iter=1,\n",
    "    total_trunc_num=300,\n",
    "    bounds=sampler.bounds,\n",
    ")"
   ]
  }
 ],
 "metadata": {
  "kernelspec": {
   "display_name": "base",
   "language": "python",
   "name": "python3"
  },
  "language_info": {
   "codemirror_mode": {
    "name": "ipython",
    "version": 3
   },
   "file_extension": ".py",
   "mimetype": "text/x-python",
   "name": "python",
   "nbconvert_exporter": "python",
   "pygments_lexer": "ipython3",
   "version": "3.12.2"
  }
 },
 "nbformat": 4,
 "nbformat_minor": 2
}
